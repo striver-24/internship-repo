{
  "nbformat": 4,
  "nbformat_minor": 0,
  "metadata": {
    "colab": {
      "provenance": []
    },
    "kernelspec": {
      "name": "python3",
      "display_name": "Python 3"
    },
    "language_info": {
      "name": "python"
    }
  },
  "cells": [
    {
      "cell_type": "code",
      "execution_count": null,
      "metadata": {
        "colab": {
          "base_uri": "https://localhost:8080/"
        },
        "id": "NiOoyd2zEi_R",
        "outputId": "0288f4d9-b9ec-4db9-ca88-f48350d8db10",
        "collapsed": true
      },
      "outputs": [
        {
          "output_type": "stream",
          "name": "stdout",
          "text": [
            "Collecting fastapi\n",
            "  Downloading fastapi-0.115.8-py3-none-any.whl.metadata (27 kB)\n",
            "Collecting uvicorn\n",
            "  Downloading uvicorn-0.34.0-py3-none-any.whl.metadata (6.5 kB)\n",
            "Requirement already satisfied: scikit-learn in /usr/local/lib/python3.11/dist-packages (1.6.1)\n",
            "Requirement already satisfied: matplotlib in /usr/local/lib/python3.11/dist-packages (3.10.0)\n",
            "Requirement already satisfied: seaborn in /usr/local/lib/python3.11/dist-packages (0.13.2)\n",
            "Collecting pyngrok\n",
            "  Downloading pyngrok-7.2.3-py3-none-any.whl.metadata (8.7 kB)\n",
            "Collecting streamlit\n",
            "  Downloading streamlit-1.42.1-py2.py3-none-any.whl.metadata (8.9 kB)\n",
            "Requirement already satisfied: nest-asyncio in /usr/local/lib/python3.11/dist-packages (1.6.0)\n",
            "Collecting starlette<0.46.0,>=0.40.0 (from fastapi)\n",
            "  Downloading starlette-0.45.3-py3-none-any.whl.metadata (6.3 kB)\n",
            "Requirement already satisfied: pydantic!=1.8,!=1.8.1,!=2.0.0,!=2.0.1,!=2.1.0,<3.0.0,>=1.7.4 in /usr/local/lib/python3.11/dist-packages (from fastapi) (2.10.6)\n",
            "Requirement already satisfied: typing-extensions>=4.8.0 in /usr/local/lib/python3.11/dist-packages (from fastapi) (4.12.2)\n",
            "Requirement already satisfied: click>=7.0 in /usr/local/lib/python3.11/dist-packages (from uvicorn) (8.1.8)\n",
            "Requirement already satisfied: h11>=0.8 in /usr/local/lib/python3.11/dist-packages (from uvicorn) (0.14.0)\n",
            "Requirement already satisfied: numpy>=1.19.5 in /usr/local/lib/python3.11/dist-packages (from scikit-learn) (1.26.4)\n",
            "Requirement already satisfied: scipy>=1.6.0 in /usr/local/lib/python3.11/dist-packages (from scikit-learn) (1.13.1)\n",
            "Requirement already satisfied: joblib>=1.2.0 in /usr/local/lib/python3.11/dist-packages (from scikit-learn) (1.4.2)\n",
            "Requirement already satisfied: threadpoolctl>=3.1.0 in /usr/local/lib/python3.11/dist-packages (from scikit-learn) (3.5.0)\n",
            "Requirement already satisfied: contourpy>=1.0.1 in /usr/local/lib/python3.11/dist-packages (from matplotlib) (1.3.1)\n",
            "Requirement already satisfied: cycler>=0.10 in /usr/local/lib/python3.11/dist-packages (from matplotlib) (0.12.1)\n",
            "Requirement already satisfied: fonttools>=4.22.0 in /usr/local/lib/python3.11/dist-packages (from matplotlib) (4.56.0)\n",
            "Requirement already satisfied: kiwisolver>=1.3.1 in /usr/local/lib/python3.11/dist-packages (from matplotlib) (1.4.8)\n",
            "Requirement already satisfied: packaging>=20.0 in /usr/local/lib/python3.11/dist-packages (from matplotlib) (24.2)\n",
            "Requirement already satisfied: pillow>=8 in /usr/local/lib/python3.11/dist-packages (from matplotlib) (11.1.0)\n",
            "Requirement already satisfied: pyparsing>=2.3.1 in /usr/local/lib/python3.11/dist-packages (from matplotlib) (3.2.1)\n",
            "Requirement already satisfied: python-dateutil>=2.7 in /usr/local/lib/python3.11/dist-packages (from matplotlib) (2.8.2)\n",
            "Requirement already satisfied: pandas>=1.2 in /usr/local/lib/python3.11/dist-packages (from seaborn) (2.2.2)\n",
            "Requirement already satisfied: PyYAML>=5.1 in /usr/local/lib/python3.11/dist-packages (from pyngrok) (6.0.2)\n",
            "Requirement already satisfied: altair<6,>=4.0 in /usr/local/lib/python3.11/dist-packages (from streamlit) (5.5.0)\n",
            "Requirement already satisfied: blinker<2,>=1.0.0 in /usr/local/lib/python3.11/dist-packages (from streamlit) (1.9.0)\n",
            "Requirement already satisfied: cachetools<6,>=4.0 in /usr/local/lib/python3.11/dist-packages (from streamlit) (5.5.1)\n",
            "Requirement already satisfied: protobuf<6,>=3.20 in /usr/local/lib/python3.11/dist-packages (from streamlit) (4.25.6)\n",
            "Requirement already satisfied: pyarrow>=7.0 in /usr/local/lib/python3.11/dist-packages (from streamlit) (17.0.0)\n",
            "Requirement already satisfied: requests<3,>=2.27 in /usr/local/lib/python3.11/dist-packages (from streamlit) (2.32.3)\n",
            "Requirement already satisfied: rich<14,>=10.14.0 in /usr/local/lib/python3.11/dist-packages (from streamlit) (13.9.4)\n",
            "Requirement already satisfied: tenacity<10,>=8.1.0 in /usr/local/lib/python3.11/dist-packages (from streamlit) (9.0.0)\n",
            "Requirement already satisfied: toml<2,>=0.10.1 in /usr/local/lib/python3.11/dist-packages (from streamlit) (0.10.2)\n",
            "Collecting watchdog<7,>=2.1.5 (from streamlit)\n",
            "  Downloading watchdog-6.0.0-py3-none-manylinux2014_x86_64.whl.metadata (44 kB)\n",
            "\u001b[2K     \u001b[90m━━━━━━━━━━━━━━━━━━━━━━━━━━━━━━━━━━━━━━━━\u001b[0m \u001b[32m44.3/44.3 kB\u001b[0m \u001b[31m2.9 MB/s\u001b[0m eta \u001b[36m0:00:00\u001b[0m\n",
            "\u001b[?25hRequirement already satisfied: gitpython!=3.1.19,<4,>=3.0.7 in /usr/local/lib/python3.11/dist-packages (from streamlit) (3.1.44)\n",
            "Collecting pydeck<1,>=0.8.0b4 (from streamlit)\n",
            "  Downloading pydeck-0.9.1-py2.py3-none-any.whl.metadata (4.1 kB)\n",
            "Requirement already satisfied: tornado<7,>=6.0.3 in /usr/local/lib/python3.11/dist-packages (from streamlit) (6.4.2)\n",
            "Requirement already satisfied: jinja2 in /usr/local/lib/python3.11/dist-packages (from altair<6,>=4.0->streamlit) (3.1.5)\n",
            "Requirement already satisfied: jsonschema>=3.0 in /usr/local/lib/python3.11/dist-packages (from altair<6,>=4.0->streamlit) (4.23.0)\n",
            "Requirement already satisfied: narwhals>=1.14.2 in /usr/local/lib/python3.11/dist-packages (from altair<6,>=4.0->streamlit) (1.26.0)\n",
            "Requirement already satisfied: gitdb<5,>=4.0.1 in /usr/local/lib/python3.11/dist-packages (from gitpython!=3.1.19,<4,>=3.0.7->streamlit) (4.0.12)\n",
            "Requirement already satisfied: pytz>=2020.1 in /usr/local/lib/python3.11/dist-packages (from pandas>=1.2->seaborn) (2025.1)\n",
            "Requirement already satisfied: tzdata>=2022.7 in /usr/local/lib/python3.11/dist-packages (from pandas>=1.2->seaborn) (2025.1)\n",
            "Requirement already satisfied: annotated-types>=0.6.0 in /usr/local/lib/python3.11/dist-packages (from pydantic!=1.8,!=1.8.1,!=2.0.0,!=2.0.1,!=2.1.0,<3.0.0,>=1.7.4->fastapi) (0.7.0)\n",
            "Requirement already satisfied: pydantic-core==2.27.2 in /usr/local/lib/python3.11/dist-packages (from pydantic!=1.8,!=1.8.1,!=2.0.0,!=2.0.1,!=2.1.0,<3.0.0,>=1.7.4->fastapi) (2.27.2)\n",
            "Requirement already satisfied: six>=1.5 in /usr/local/lib/python3.11/dist-packages (from python-dateutil>=2.7->matplotlib) (1.17.0)\n",
            "Requirement already satisfied: charset-normalizer<4,>=2 in /usr/local/lib/python3.11/dist-packages (from requests<3,>=2.27->streamlit) (3.4.1)\n",
            "Requirement already satisfied: idna<4,>=2.5 in /usr/local/lib/python3.11/dist-packages (from requests<3,>=2.27->streamlit) (3.10)\n",
            "Requirement already satisfied: urllib3<3,>=1.21.1 in /usr/local/lib/python3.11/dist-packages (from requests<3,>=2.27->streamlit) (2.3.0)\n",
            "Requirement already satisfied: certifi>=2017.4.17 in /usr/local/lib/python3.11/dist-packages (from requests<3,>=2.27->streamlit) (2025.1.31)\n",
            "Requirement already satisfied: markdown-it-py>=2.2.0 in /usr/local/lib/python3.11/dist-packages (from rich<14,>=10.14.0->streamlit) (3.0.0)\n",
            "Requirement already satisfied: pygments<3.0.0,>=2.13.0 in /usr/local/lib/python3.11/dist-packages (from rich<14,>=10.14.0->streamlit) (2.18.0)\n",
            "Requirement already satisfied: anyio<5,>=3.6.2 in /usr/local/lib/python3.11/dist-packages (from starlette<0.46.0,>=0.40.0->fastapi) (3.7.1)\n",
            "Requirement already satisfied: sniffio>=1.1 in /usr/local/lib/python3.11/dist-packages (from anyio<5,>=3.6.2->starlette<0.46.0,>=0.40.0->fastapi) (1.3.1)\n",
            "Requirement already satisfied: smmap<6,>=3.0.1 in /usr/local/lib/python3.11/dist-packages (from gitdb<5,>=4.0.1->gitpython!=3.1.19,<4,>=3.0.7->streamlit) (5.0.2)\n",
            "Requirement already satisfied: MarkupSafe>=2.0 in /usr/local/lib/python3.11/dist-packages (from jinja2->altair<6,>=4.0->streamlit) (3.0.2)\n",
            "Requirement already satisfied: attrs>=22.2.0 in /usr/local/lib/python3.11/dist-packages (from jsonschema>=3.0->altair<6,>=4.0->streamlit) (25.1.0)\n",
            "Requirement already satisfied: jsonschema-specifications>=2023.03.6 in /usr/local/lib/python3.11/dist-packages (from jsonschema>=3.0->altair<6,>=4.0->streamlit) (2024.10.1)\n",
            "Requirement already satisfied: referencing>=0.28.4 in /usr/local/lib/python3.11/dist-packages (from jsonschema>=3.0->altair<6,>=4.0->streamlit) (0.36.2)\n",
            "Requirement already satisfied: rpds-py>=0.7.1 in /usr/local/lib/python3.11/dist-packages (from jsonschema>=3.0->altair<6,>=4.0->streamlit) (0.22.3)\n",
            "Requirement already satisfied: mdurl~=0.1 in /usr/local/lib/python3.11/dist-packages (from markdown-it-py>=2.2.0->rich<14,>=10.14.0->streamlit) (0.1.2)\n",
            "Downloading fastapi-0.115.8-py3-none-any.whl (94 kB)\n",
            "\u001b[2K   \u001b[90m━━━━━━━━━━━━━━━━━━━━━━━━━━━━━━━━━━━━━━━━\u001b[0m \u001b[32m94.8/94.8 kB\u001b[0m \u001b[31m6.8 MB/s\u001b[0m eta \u001b[36m0:00:00\u001b[0m\n",
            "\u001b[?25hDownloading uvicorn-0.34.0-py3-none-any.whl (62 kB)\n",
            "\u001b[2K   \u001b[90m━━━━━━━━━━━━━━━━━━━━━━━━━━━━━━━━━━━━━━━━\u001b[0m \u001b[32m62.3/62.3 kB\u001b[0m \u001b[31m4.6 MB/s\u001b[0m eta \u001b[36m0:00:00\u001b[0m\n",
            "\u001b[?25hDownloading pyngrok-7.2.3-py3-none-any.whl (23 kB)\n",
            "Downloading streamlit-1.42.1-py2.py3-none-any.whl (9.6 MB)\n",
            "\u001b[2K   \u001b[90m━━━━━━━━━━━━━━━━━━━━━━━━━━━━━━━━━━━━━━━━\u001b[0m \u001b[32m9.6/9.6 MB\u001b[0m \u001b[31m84.4 MB/s\u001b[0m eta \u001b[36m0:00:00\u001b[0m\n",
            "\u001b[?25hDownloading pydeck-0.9.1-py2.py3-none-any.whl (6.9 MB)\n",
            "\u001b[2K   \u001b[90m━━━━━━━━━━━━━━━━━━━━━━━━━━━━━━━━━━━━━━━━\u001b[0m \u001b[32m6.9/6.9 MB\u001b[0m \u001b[31m93.7 MB/s\u001b[0m eta \u001b[36m0:00:00\u001b[0m\n",
            "\u001b[?25hDownloading starlette-0.45.3-py3-none-any.whl (71 kB)\n",
            "\u001b[2K   \u001b[90m━━━━━━━━━━━━━━━━━━━━━━━━━━━━━━━━━━━━━━━━\u001b[0m \u001b[32m71.5/71.5 kB\u001b[0m \u001b[31m5.5 MB/s\u001b[0m eta \u001b[36m0:00:00\u001b[0m\n",
            "\u001b[?25hDownloading watchdog-6.0.0-py3-none-manylinux2014_x86_64.whl (79 kB)\n",
            "\u001b[2K   \u001b[90m━━━━━━━━━━━━━━━━━━━━━━━━━━━━━━━━━━━━━━━━\u001b[0m \u001b[32m79.1/79.1 kB\u001b[0m \u001b[31m5.7 MB/s\u001b[0m eta \u001b[36m0:00:00\u001b[0m\n",
            "\u001b[?25hInstalling collected packages: watchdog, uvicorn, pyngrok, starlette, pydeck, fastapi, streamlit\n",
            "Successfully installed fastapi-0.115.8 pydeck-0.9.1 pyngrok-7.2.3 starlette-0.45.3 streamlit-1.42.1 uvicorn-0.34.0 watchdog-6.0.0\n"
          ]
        }
      ],
      "source": [
        "!pip install fastapi uvicorn scikit-learn matplotlib seaborn pyngrok streamlit nest-asyncio\n"
      ]
    },
    {
      "cell_type": "code",
      "source": [
        "import streamlit as st\n",
        "import pandas as pd\n",
        "import numpy as np\n",
        "from fastapi import FastAPI, HTTPException, Query\n",
        "from typing import Optional\n",
        "from sklearn.model_selection import train_test_split\n",
        "from sklearn.ensemble import RandomForestRegressor\n",
        "from sklearn.metrics import mean_squared_error, r2_score\n",
        "from sklearn.preprocessing import StandardScaler, OneHotEncoder\n",
        "from sklearn.compose import ColumnTransformer\n",
        "from sklearn.pipeline import Pipeline\n",
        "import uvicorn\n",
        "import threading"
      ],
      "metadata": {
        "id": "5C3FjgiXE3pl"
      },
      "execution_count": null,
      "outputs": []
    },
    {
      "cell_type": "code",
      "source": [
        "from pathlib import Path\n",
        "\n",
        "file_path = Path(\"/content/dataset.csv\")\n",
        "\n",
        "try:\n",
        "    data = pd.read_csv(file_path)\n",
        "except FileNotFoundError:\n",
        "    print(f\"Error: File '{file_path}' not found.\")\n",
        "    exit()"
      ],
      "metadata": {
        "id": "SfX0QoQKE_Bu"
      },
      "execution_count": null,
      "outputs": []
    },
    {
      "cell_type": "code",
      "source": [
        "element_mapping = {\n",
        "    \"Emissions Share (CH4)\": \"Emissions_Share_CH4\",\n",
        "    \"Emissions Share (CO2)\": \"Emissions_Share_CO2\",\n",
        "    \"Emissions Share (CO2eq) (AR5)\": \"Emissions_Share_CO2eq_AR5\",\n",
        "    \"Emissions Share (CO2eq) (AR5) (F-gases)\": \"Emissions_Share_CO2eq_AR5_F_gases\",\n",
        "    \"Emissions Share (N2O)\": \"Emissions_Share_N2O\",\n",
        "    \"Emissions per area of agricultural land\": \"Emissions_per_area\",\n",
        "    \"Emissions per capita\": \"Emissions_per_capita\",\n",
        "    \"Emissions per value of agricultural production\": \"Emissions_per_value\",\n",
        "}"
      ],
      "metadata": {
        "id": "VnROcx8MFZZz"
      },
      "execution_count": null,
      "outputs": []
    },
    {
      "cell_type": "code",
      "source": [
        "print(data.columns)"
      ],
      "metadata": {
        "colab": {
          "base_uri": "https://localhost:8080/"
        },
        "id": "S8QOvCilFciC",
        "outputId": "73fb5d3a-96f7-4e5e-9d90-6d695125e4fa"
      },
      "execution_count": null,
      "outputs": [
        {
          "output_type": "stream",
          "name": "stdout",
          "text": [
            "Index(['Domain Code', 'Domain', 'Area Code (M49)', 'Area', 'Element Code',\n",
            "       'Element', 'Item Code', 'Item', 'Year Code', 'Year', 'Unit', 'Value',\n",
            "       'Flag', 'Flag Description'],\n",
            "      dtype='object')\n"
          ]
        }
      ]
    },
    {
      "cell_type": "code",
      "source": [
        "print(data.head())"
      ],
      "metadata": {
        "colab": {
          "base_uri": "https://localhost:8080/"
        },
        "id": "GaiCigiuFhDF",
        "outputId": "76ea92dc-63e6-42bf-c970-dd0583f679cf"
      },
      "execution_count": null,
      "outputs": [
        {
          "output_type": "stream",
          "name": "stdout",
          "text": [
            "  Domain Code                Domain  Area Code (M49)   Area  Element Code  \\\n",
            "0          EM  Emissions indicators              356  India        726313   \n",
            "1          EM  Emissions indicators              356  India        726313   \n",
            "2          EM  Emissions indicators              356  India        726313   \n",
            "3          EM  Emissions indicators              356  India        726313   \n",
            "4          EM  Emissions indicators              356  India        726313   \n",
            "\n",
            "                         Element  Item Code       Item  Year Code  Year Unit  \\\n",
            "0  Emissions Share (CO2eq) (AR5)       6996  Farm gate       1990  1990    %   \n",
            "1  Emissions Share (CO2eq) (AR5)       6996  Farm gate       1991  1991    %   \n",
            "2  Emissions Share (CO2eq) (AR5)       6996  Farm gate       1992  1992    %   \n",
            "3  Emissions Share (CO2eq) (AR5)       6996  Farm gate       1993  1993    %   \n",
            "4  Emissions Share (CO2eq) (AR5)       6996  Farm gate       1994  1994    %   \n",
            "\n",
            "   Value Flag Flag Description  \n",
            "0  51.99    E  Estimated value  \n",
            "1  50.97    E  Estimated value  \n",
            "2  49.92    E  Estimated value  \n",
            "3  50.01    E  Estimated value  \n",
            "4  49.00    E  Estimated value  \n"
          ]
        }
      ]
    },
    {
      "cell_type": "code",
      "source": [
        "data = data.groupby(['Area', 'Year', 'Element'])['Value'].mean().unstack().reset_index()\n",
        "data.rename(columns=element_mapping, inplace=True)"
      ],
      "metadata": {
        "id": "Mhs32a81Firy"
      },
      "execution_count": null,
      "outputs": []
    },
    {
      "cell_type": "code",
      "source": [
        "data.dropna(inplace=True)"
      ],
      "metadata": {
        "id": "zyf8SoeaFlzT"
      },
      "execution_count": null,
      "outputs": []
    },
    {
      "cell_type": "code",
      "source": [
        "print(data)"
      ],
      "metadata": {
        "colab": {
          "base_uri": "https://localhost:8080/"
        },
        "id": "6eOiavZgFooA",
        "outputId": "eb358968-8997-430b-af4b-c32eb32750a2"
      },
      "execution_count": null,
      "outputs": [
        {
          "output_type": "stream",
          "name": "stdout",
          "text": [
            "Element   Area  Year  Emissions_Share_CH4  Emissions_Share_CO2  \\\n",
            "0        India  1990            41.741250            29.370833   \n",
            "1        India  1991            41.655625            29.525833   \n",
            "2        India  1992            41.632500            29.485833   \n",
            "3        India  1993            41.785000            29.737500   \n",
            "4        India  1994            41.705625            29.705833   \n",
            "5        India  1995            41.503750            29.770000   \n",
            "6        India  1996            41.460000            29.563333   \n",
            "7        India  1997            41.231250            29.645833   \n",
            "8        India  1998            41.246875            29.655833   \n",
            "9        India  1999            41.107500            29.282500   \n",
            "10       India  2000            41.029375            29.199167   \n",
            "11       India  2001            40.987500            28.823333   \n",
            "12       India  2002            40.828125            28.975833   \n",
            "13       India  2003            40.655000            29.064167   \n",
            "14       India  2004            40.530625            28.925000   \n",
            "15       India  2005            40.520000            28.661667   \n",
            "16       India  2006            40.485000            28.631667   \n",
            "17       India  2007            40.398125            28.035000   \n",
            "18       India  2008            40.203750            27.878333   \n",
            "19       India  2009            39.753750            27.804167   \n",
            "20       India  2010            39.681250            27.936667   \n",
            "21       India  2011            39.569375            27.547500   \n",
            "22       India  2012            39.380000            27.571667   \n",
            "23       India  2013            40.132500            28.222500   \n",
            "24       India  2014            39.965625            28.115000   \n",
            "25       India  2015            39.863750            27.643333   \n",
            "26       India  2016            39.820000            27.673333   \n",
            "27       India  2017            39.731250            27.530833   \n",
            "28       India  2018            39.557500            27.516667   \n",
            "29       India  2019            39.633125            27.539167   \n",
            "30       India  2020            39.796250            27.726667   \n",
            "31       India  2021            39.370625            27.467500   \n",
            "32       India  2022            39.198750            27.342500   \n",
            "\n",
            "Element  Emissions_Share_CO2eq_AR5  Emissions_Share_CO2eq_AR5_F_gases  \\\n",
            "0                        35.291250                             96.884   \n",
            "1                        34.926250                             96.616   \n",
            "2                        34.587500                             99.252   \n",
            "3                        34.521875                             84.320   \n",
            "4                        34.182500                             88.160   \n",
            "5                        33.795000                             93.696   \n",
            "6                        33.268750                             62.208   \n",
            "7                        33.045000                             62.912   \n",
            "8                        32.948750                             63.992   \n",
            "9                        32.428750                             65.124   \n",
            "10                       32.154375                             65.728   \n",
            "11                       30.879375                             68.376   \n",
            "12                       30.723750                             70.224   \n",
            "13                       30.602500                             71.036   \n",
            "14                       30.317500                             72.984   \n",
            "15                       30.120000                             79.288   \n",
            "16                       29.916875                             82.348   \n",
            "17                       29.425000                             83.356   \n",
            "18                       28.953125                             84.768   \n",
            "19                       28.333125                             85.724   \n",
            "20                       28.428750                             86.124   \n",
            "21                       28.183750                             86.524   \n",
            "22                       27.698750                             86.508   \n",
            "23                       28.079375                             86.612   \n",
            "24                       27.571250                             87.000   \n",
            "25                       27.155625                             87.108   \n",
            "26                       27.018750                             87.548   \n",
            "27                       26.789375                             87.068   \n",
            "28                       26.606250                             87.220   \n",
            "29                       26.552500                             87.268   \n",
            "30                       27.235625                             87.212   \n",
            "31                       26.608750                             87.192   \n",
            "32                       26.336875                             85.796   \n",
            "\n",
            "Element  Emissions_Share_N2O  Emissions_per_area  Emissions_per_capita  \\\n",
            "0                  44.656875            3.543333              0.515625   \n",
            "1                  44.625625            3.613333              0.521250   \n",
            "2                  44.636875            3.673333              0.525625   \n",
            "3                  44.616875            3.743333              0.525000   \n",
            "4                  44.659375            3.810000              0.532500   \n",
            "5                  44.606250            3.883333              0.537500   \n",
            "6                  44.819375            3.943333              0.544375   \n",
            "7                  44.912500            3.986667              0.548750   \n",
            "8                  44.901250            4.040000              0.545000   \n",
            "9                  44.745625            4.040000              0.550000   \n",
            "10                 44.622500            4.020000              0.543750   \n",
            "11                 44.721875            4.086667              0.580625   \n",
            "12                 44.549375            4.003333              0.570000   \n",
            "13                 44.535000            4.106667              0.577500   \n",
            "14                 44.343125            4.173333              0.585000   \n",
            "15                 44.571875            4.270000              0.595625   \n",
            "16                 44.614375            4.373333              0.610000   \n",
            "17                 44.139375            4.396667              0.621250   \n",
            "18                 44.153125            4.456667              0.640000   \n",
            "19                 43.606250            4.443333              0.660000   \n",
            "20                 43.858750            4.530000              0.660000   \n",
            "21                 44.011250            4.523333              0.660625   \n",
            "22                 43.418125            4.546667              0.680000   \n",
            "23                 43.760625            4.716667              0.679375   \n",
            "24                 43.631250            4.760000              0.707500   \n",
            "25                 43.493750            4.650000              0.711250   \n",
            "26                 43.322500            4.703333              0.721250   \n",
            "27                 43.024375            4.763333              0.731875   \n",
            "28                 42.985000            4.840000              0.746250   \n",
            "29                 43.348750            4.926667              0.756875   \n",
            "30                 44.009375            5.030000              0.718125   \n",
            "31                 43.341875            5.010000              0.750625   \n",
            "32                 43.471250            5.040000              0.768125   \n",
            "\n",
            "Element  Emissions_per_value  \n",
            "0                   3.490000  \n",
            "1                   3.483333  \n",
            "2                   3.403333  \n",
            "3                   3.390000  \n",
            "4                   3.336667  \n",
            "5                   3.300000  \n",
            "6                   3.223333  \n",
            "7                   3.196667  \n",
            "8                   3.173333  \n",
            "9                   3.040000  \n",
            "10                  3.056667  \n",
            "11                  3.010000  \n",
            "12                  3.183333  \n",
            "13                  2.950000  \n",
            "14                  3.030000  \n",
            "15                  2.933333  \n",
            "16                  2.843333  \n",
            "17                  2.626667  \n",
            "18                  2.626667  \n",
            "19                  2.676667  \n",
            "20                  2.466667  \n",
            "21                  2.306667  \n",
            "22                  2.273333  \n",
            "23                  2.253333  \n",
            "24                  2.223333  \n",
            "25                  2.203333  \n",
            "26                  2.140000  \n",
            "27                  2.036667  \n",
            "28                  1.990000  \n",
            "29                  1.973333  \n",
            "30                  1.950000  \n",
            "31                  1.856667  \n",
            "32                  1.846667  \n"
          ]
        }
      ]
    },
    {
      "cell_type": "code",
      "source": [
        "numeric_cols = list(element_mapping.values())\n",
        "\n",
        "for col in numeric_cols:\n",
        "    if data[col].dtype != 'number':\n",
        "        try:\n",
        "            data[col] = pd.to_numeric(data[col], errors='coerce')\n",
        "\n",
        "        except Exception as e:\n",
        "            print(f\"Error converting column '{col}' to numeric: {e}\")\n",
        "\n",
        "for col in numeric_cols:\n",
        "    if data[col].isnull().any():\n",
        "        mean_value = data[col].mean()\n",
        "        data[col].fillna(mean_value, inplace=True)"
      ],
      "metadata": {
        "id": "hYNGo7Nh7Eoe"
      },
      "execution_count": null,
      "outputs": []
    },
    {
      "cell_type": "code",
      "source": [
        "data['Total_Emissions_Share'] = data[[col for col in data.columns if col.startswith('Emission_Share_')]].sum(axis=1)"
      ],
      "metadata": {
        "id": "wLE3W-3sFvsX"
      },
      "execution_count": null,
      "outputs": []
    },
    {
      "cell_type": "code",
      "source": [
        "X = data.drop([\"Emissions_per_area\", \"Area\", \"Year\"], axis=1)\n",
        "y = 1 / (data[\"Emissions_per_area\"] + 1e-9)"
      ],
      "metadata": {
        "id": "tJsc7dUcF1ka"
      },
      "execution_count": null,
      "outputs": []
    },
    {
      "cell_type": "code",
      "source": [
        "numerical_features = X.select_dtypes(include=np.number).columns.tolist()\n",
        "categorical_features = [col for col in X.columns if col not in numerical_features]"
      ],
      "metadata": {
        "id": "tqfAqeRkF4Y-"
      },
      "execution_count": null,
      "outputs": []
    },
    {
      "cell_type": "code",
      "source": [
        "preprocessor = ColumnTransformer(\n",
        "    transformers=[\n",
        "        ('num', StandardScaler(), numerical_features),\n",
        "        ('cat', OneHotEncoder(handle_unknown='ignore'), categorical_features)\n",
        "    ],\n",
        "    remainder='passthrough' #Handles any unexpected column more robustly\n",
        ")"
      ],
      "metadata": {
        "id": "GXOfgXbfF8iY"
      },
      "execution_count": null,
      "outputs": []
    },
    {
      "cell_type": "code",
      "source": [
        "pipeline = Pipeline(steps=[('preprocessor', preprocessor),\n",
        "                            ('regressor', RandomForestRegressor(random_state=42))])"
      ],
      "metadata": {
        "id": "a0OLtkkPGBvE"
      },
      "execution_count": null,
      "outputs": []
    },
    {
      "cell_type": "code",
      "source": [
        "X_train, X_test, y_train, y_test = train_test_split(X, y, test_size=0.2, random_state=42)\n",
        "pipeline.fit(X_train, y_train)\n",
        "y_pred = pipeline.predict(X_test)"
      ],
      "metadata": {
        "id": "luOEDnplGGPu"
      },
      "execution_count": null,
      "outputs": []
    },
    {
      "cell_type": "code",
      "source": [
        "mse = mean_squared_error(y_test, y_pred)\n",
        "r2 = r2_score(y_test, y_pred)\n",
        "\n",
        "print(f\"MSE : {mse} \")\n",
        "print(f\"r2 score : {r2}\")"
      ],
      "metadata": {
        "colab": {
          "base_uri": "https://localhost:8080/"
        },
        "id": "poP10bapGJqD",
        "outputId": "8bca6b36-d263-4c33-967b-9ada58fdf17b"
      },
      "execution_count": null,
      "outputs": [
        {
          "output_type": "stream",
          "name": "stdout",
          "text": [
            "MSE : 1.0402906987608268e-05 \n",
            "r2 score : 0.9606877851486674\n"
          ]
        }
      ]
    },
    {
      "cell_type": "code",
      "source": [
        "try:\n",
        "    feature_names = pipeline.named_steps['preprocessor'].get_feature_names_out()\n",
        "except AttributeError:\n",
        "    try:\n",
        "        feature_names = pipeline.named_steps['preprocessor'].get_feature_names()\n",
        "    except AttributeError:\n",
        "        print(\"Warning: Could not retrieve feature names.  Check your scikit-learn version and preprocessor type.\")\n",
        "        feature_names = None\n",
        "\n",
        "if feature_names is not None:\n",
        "    importances = pipeline.named_steps['regressor'].feature_importances_\n",
        "    feature_importances_df = pd.DataFrame({'Feature': feature_names, 'Importance': importances}).sort_values(by='Importance', ascending=False)"
      ],
      "metadata": {
        "id": "yn1vkYpAGNXg"
      },
      "execution_count": null,
      "outputs": []
    },
    {
      "cell_type": "code",
      "source": [
        "print(\"\\n Feature Importances:\")\n",
        "print(feature_importances_df)"
      ],
      "metadata": {
        "colab": {
          "base_uri": "https://localhost:8080/"
        },
        "id": "YDT-s2dFGRxB",
        "outputId": "25de61a7-d11c-4098-8f66-2213529066a5"
      },
      "execution_count": null,
      "outputs": [
        {
          "output_type": "stream",
          "name": "stdout",
          "text": [
            "\n",
            " Feature Importances:\n",
            "                                  Feature  Importance\n",
            "5               num__Emissions_per_capita    0.260900\n",
            "2          num__Emissions_Share_CO2eq_AR5    0.253911\n",
            "6                num__Emissions_per_value    0.171642\n",
            "0                num__Emissions_Share_CH4    0.137198\n",
            "1                num__Emissions_Share_CO2    0.103669\n",
            "4                num__Emissions_Share_N2O    0.047022\n",
            "3  num__Emissions_Share_CO2eq_AR5_F_gases    0.025658\n",
            "7              num__Total_Emissions_Share    0.000000\n"
          ]
        }
      ]
    },
    {
      "cell_type": "code",
      "source": [
        "app = FastAPI(title=\"Carbon Credits and Emissions Prediction API\")"
      ],
      "metadata": {
        "id": "Optd6kmsGUsO"
      },
      "execution_count": null,
      "outputs": []
    },
    {
      "cell_type": "code",
      "source": [
        "@app.get(\"/predict_emissions\")\n",
        "async def predict_emissions(\n",
        "    area: str = Query(..., description=\"Area (e.g., country)\"),\n",
        "    year: int = Query(..., description=\"Year\"),\n",
        "    ch4_emissions_share: float = Query(..., description=\"Emissions Share (CH4)\"),\n",
        "    co2_emissions_share: float = Query(..., description=\"Emissions Share (CO2)\"),\n",
        "    co2eq_ar5_emissions_share: float = Query(..., description=\"Emissions Share (CO2eq) (AR5)\"),\n",
        "    co2eq_ar5_fgases_emissions_share: float = Query(..., description=\"Emissions Share (CO2eq) (AR5) (F-gases)\"),\n",
        "    n2o_emissions_share: float = Query(..., description=\"Emissions Share (N2O)\"),\n",
        "    emissions_per_capita: float = Query(..., description=\"Emissions per capita\"),\n",
        "    emissions_per_value: float = Query(..., description=\"Emissions per value of agricultural production\"),\n",
        "):\n",
        "    \"\"\"Predicts emissions per area using the trained model.\"\"\"\n",
        "\n",
        "    try:\n",
        "        future_data = pd.DataFrame({\n",
        "            'Area': [area],\n",
        "            'Year': [year],\n",
        "            'Emissions_Share_CH4': [ch4_emissions_share],\n",
        "            'Emissions_Share_CO2': [co2_emissions_share],\n",
        "            'Emissions_Share_CO2eq_AR5': [co2eq_ar5_emissions_share],\n",
        "            'Emissions_Share_CO2eq_AR5_F_gases': [co2eq_ar5_fgases_emissions_share],\n",
        "            'Emissions_Share_N2O': [n2o_emissions_share],\n",
        "            'Emissions_per_capita': [emissions_per_capita],\n",
        "            'Emissions_per_value': [emissions_per_value],\n",
        "        })\n",
        "\n",
        "        future_data['Total_Emissions_Share'] = future_data[[col for col in future_data.columns if col.startswith('Emissions_Share_')]].sum(axis=1)\n",
        "\n",
        "        X_future = future_data.drop(['Area', 'Year'], axis=1)  # Drop target\n",
        "\n",
        "        X_future_transformed = pipeline.named_steps['preprocessor'].transform(X_future)\n",
        "\n",
        "        feature_names = pipeline.named_steps['preprocessor'].get_feature_names_out()\n",
        "        X_future_transformed = pd.DataFrame(X_future_transformed, columns=feature_names)\n",
        "\n",
        "        future_predictions = pipeline.predict(X_future)\n",
        "        predicted_emissions_per_area = 1 / (future_predictions + 1e-9)\n",
        "\n",
        "        return {\n",
        "            \"area\": area,\n",
        "            \"year\": year,\n",
        "            \"predicted_emissions_per_area\": predicted_emissions_per_area[0],\n",
        "        }\n",
        "\n",
        "    except Exception as e:\n",
        "        raise HTTPException(status_code=500, detail=f\"An error occurred: {e}\")\n",
        "\n",
        "\n",
        "\n",
        "@app.get(\"/calculate_carbon_credits\")\n",
        "async def calculate_carbon_credits(\n",
        "    area: str = Query(..., description=\"Area\"),\n",
        "    year: int = Query(..., description=\"Year\"),\n",
        "    ch4_emissions_share: float = Query(..., description=\"Emissions Share (CH4)\"),\n",
        "    co2_emissions_share: float = Query(..., description=\"Emissions Share (CO2)\"),\n",
        "    co2eq_ar5_emissions_share: float = Query(..., description=\"Emissions Share (CO2eq) (AR5)\"),\n",
        "    co2eq_ar5_fgases_emissions_share: float = Query(..., description=\"Emissions Share (CO2eq) (AR5) (F-gases)\"),\n",
        "    n2o_emissions_share: float = Query(..., description=\"Emissions Share (N2O)\"),\n",
        "    emissions_per_capita: float = Query(..., description=\"Emissions per capita\"),\n",
        "    emissions_per_value: float = Query(..., description=\"Emissions per value of agricultural production\"),\n",
        "    baseline_emissions_per_area: Optional[float] = Query(None, description=\"Baseline emissions per area (optional)\"),\n",
        "    reduction_achieved: Optional[float] = Query(None, description=\"Emission reduction achieved (optional)\")\n",
        "\n",
        "):\n",
        "\n",
        "    try:\n",
        "        # 1. Get predicted emissions per area (same logic as in /predict_emissions)\n",
        "        future_data = pd.DataFrame({  # Create the input DataFrame\n",
        "            'Area': [area],\n",
        "            'Year': [year],\n",
        "            'Emissions_Share_CH4': [ch4_emissions_share],\n",
        "            'Emissions_Share_CO2': [co2_emissions_share],\n",
        "            'Emissions_Share_CO2eq_AR5': [co2eq_ar5_emissions_share],\n",
        "            'Emissions_Share_CO2eq_AR5_F_gases': [co2eq_ar5_fgases_emissions_share],\n",
        "            'Emissions_Share_N2O': [n2o_emissions_share],\n",
        "            'Emissions_per_capita': [emissions_per_capita],\n",
        "            'Emissions_per_value': [emissions_per_value],\n",
        "        })\n",
        "        future_data['Total_Emissions_Share'] = future_data[[col for col in future_data.columns if col.startswith('Emissions_Share_')]].sum(axis=1)\n",
        "\n",
        "        X_future = future_data.drop(['Area', 'Year'], axis=1)\n",
        "        X_future_transformed = pipeline.named_steps['preprocessor'].transform(X_future)\n",
        "        feature_names = pipeline.named_steps['preprocessor'].get_feature_names_out()\n",
        "        X_future_transformed = pd.DataFrame(X_future_transformed, columns=feature_names)\n",
        "        future_predictions = pipeline.predict(X_future)\n",
        "        predicted_emissions_per_area = 1 / (future_predictions + 1e-9)\n",
        "        predicted_emissions_per_area = predicted_emissions_per_area[0]\n",
        "\n",
        "\n",
        "        # 2. Calculate carbon credits\n",
        "        if baseline_emissions_per_area is None:\n",
        "            baseline_emissions_per_area = predicted_emissions_per_area\n",
        "\n",
        "        if reduction_achieved is not None:\n",
        "            carbon_credits = reduction_achieved\n",
        "        else:\n",
        "            carbon_credits = baseline_emissions_per_area - predicted_emissions_per_area\n",
        "\n",
        "        if carbon_credits < 0:\n",
        "            carbon_credits = 0\n",
        "\n",
        "        return {\n",
        "            \"area\": area,\n",
        "            \"year\": year,\n",
        "            \"predicted_emissions_per_area\": predicted_emissions_per_area,\n",
        "            \"baseline_emissions_per_area\": baseline_emissions_per_area,\n",
        "            \"potential_carbon_credits\": carbon_credits,\n",
        "            \"message\": \"Carbon credit calculation (simplified example). See documentation for important considerations.\",\n",
        "        }\n",
        "\n",
        "    except Exception as e:\n",
        "        raise HTTPException(status_code=500, detail=f\"An error occurred: {e}\")"
      ],
      "metadata": {
        "id": "T5EGD4lwGYUa"
      },
      "execution_count": null,
      "outputs": []
    },
    {
      "cell_type": "code",
      "source": [
        "st.title (\"Carbon Credit and Emissions Prediction App\")\n",
        "\n",
        "st.sidebar.header(\"Input Parameters\")\n",
        "area = st.sidebar.text_input(\"Area (eg: Your Country)\")\n",
        "year = st.sidebar.number_input(\"Year\", min_value=1900, max_value=2100, value=2025)\n",
        "ch4_emissions_share = st.sidebar.number_input(\"Emissions Share (CH4)\", min_value=0.0, value=0.0)\n",
        "co2_emissions_share = st.sidebar.number_input(\"Emissions Share (CO2)\", min_value=0.0, value=0.0)\n",
        "co2eq_ar5_emissions_share = st.sidebar.number_input(\"Emissions Share (CO2eq) (AR5)\", min_value=0.0, value=0.0)\n",
        "co2eq_ar5_fgases_emissions_share = st.sidebar.number_input(\"Emissions Share (CO2eq) (AR5) (F-gases)\", min_value=0.0, value=0.0)\n",
        "n2o_emissions_share = st.sidebar.number_input(\"Emissions Share (N2O)\", min_value=0.0, value=0.0)\n",
        "emissions_per_capita = st.sidebar.number_input(\"Emissions per capita\", min_value=0.0, value=0.0)\n",
        "emissions_per_value = st.sidebar.number_input(\"Emissions per value of agricultural production\", min_value=0.0, value=0.0)\n",
        "baseline_emissions_per_area = st.sidebar.number_input(\"Baseline Emissions per Area (optional)\", min_value=0.0, value=0.0)\n",
        "reduction_achieved = st.sidebar.number_input(\"Reduction Achieved (optional)\", min_value=0.0, value=0.0)\n",
        "\n",
        "if st.sidebar.button(\"Predict and Calculate\"):\n",
        "    if not area:\n",
        "        st.error(\"Please Provide Area.\")\n",
        "    else:\n",
        "        try:\n",
        "            import requests\n",
        "            prediction_url = f\"{ngrok_url}/prediction_emissions?area={area}&year={year}&ch4_emissions_share={ch4_emissions_share}&co2_emissions_share={co2_emissions_share}&co2eq_ar5_emissions_share={co2eq_ar5_emissions_share}&co2eq_ar5_fgases_emissions_share={co2eq_ar5_fgases_emissions_share}&n2o_emissions_share={n2o_emissions_share}&emissions_per_capita={emissions_per_capita}&emissions_per_value={emissions_per_value}\"\n",
        "            predict_response = requests.get(predict_url).json()\n",
        "\n",
        "            calculate_url = f\"{ngrok_url}/calculate_carbon_credits?area={area}&year={year}&ch4_emissions_share={ch4_emissions_share}&co2_emissions_share={co2_emissions_share}&co2eq_ar5_emissions_share={co2eq_ar5_emissions_share}&co2eq_ar5_fgases_emissions_share={co2eq_ar5_fgases_emissions_share}&n2o_emissions_share={n2o_emissions_share}&emissions_per_capita={emissions_per_capita}&emissions_per_value={emissions_per_value}&baseline_emissions_per_area={baseline_emissions_per_area}&reduction_achieved={reduction_achieved}\"\n",
        "            calculate_response = requests.get(calculate_url).json()\n",
        "\n",
        "            st.subheader(\"Results\")\n",
        "            st.write(f\"**Area:** {calculate_response['area']}\")\n",
        "            st.write(f\"**Year:** {calculate_response['year']}\")\n",
        "            st.write(f\"**Predicted Emissions per Area:** {calculate_response['predicted_emissions_per_area']:.2f}\")\n",
        "            st.write(f\"**Baseline Emissions per Area:** {calculate_response['baseline_emissions_per_area']:.2f}\")\n",
        "            st.write(f\"**Potential Carbon Credits:** {calculate_response['potential_carbon_credits']:.2f}\")\n",
        "            st.write(calculate_response['message'])\n",
        "\n",
        "        except requests.exceptions.RequestException as e:\n",
        "            st.error(f\"Error communicating with the API: {e}\")\n",
        "        except Exception as e:\n",
        "            st.error(f\"An error occurred: {e}\")"
      ],
      "metadata": {
        "colab": {
          "base_uri": "https://localhost:8080/"
        },
        "id": "yrCTnqSGGdpZ",
        "outputId": "1fdd6256-e126-4067-f43d-f98e3d30179b"
      },
      "execution_count": null,
      "outputs": [
        {
          "output_type": "stream",
          "name": "stderr",
          "text": [
            "2025-02-19 18:07:54.771 WARNING streamlit.runtime.scriptrunner_utils.script_run_context: Thread 'MainThread': missing ScriptRunContext! This warning can be ignored when running in bare mode.\n",
            "2025-02-19 18:07:55.015 \n",
            "  \u001b[33m\u001b[1mWarning:\u001b[0m to view this Streamlit app on a browser, run it with the following\n",
            "  command:\n",
            "\n",
            "    streamlit run /usr/local/lib/python3.11/dist-packages/colab_kernel_launcher.py [ARGUMENTS]\n",
            "2025-02-19 18:07:55.016 Thread 'MainThread': missing ScriptRunContext! This warning can be ignored when running in bare mode.\n",
            "2025-02-19 18:07:55.023 Thread 'MainThread': missing ScriptRunContext! This warning can be ignored when running in bare mode.\n",
            "2025-02-19 18:07:55.024 Thread 'MainThread': missing ScriptRunContext! This warning can be ignored when running in bare mode.\n",
            "2025-02-19 18:07:55.025 Thread 'MainThread': missing ScriptRunContext! This warning can be ignored when running in bare mode.\n",
            "2025-02-19 18:07:55.027 Thread 'MainThread': missing ScriptRunContext! This warning can be ignored when running in bare mode.\n",
            "2025-02-19 18:07:55.028 Thread 'MainThread': missing ScriptRunContext! This warning can be ignored when running in bare mode.\n",
            "2025-02-19 18:07:55.030 Thread 'MainThread': missing ScriptRunContext! This warning can be ignored when running in bare mode.\n",
            "2025-02-19 18:07:55.031 Session state does not function when running a script without `streamlit run`\n",
            "2025-02-19 18:07:55.032 Thread 'MainThread': missing ScriptRunContext! This warning can be ignored when running in bare mode.\n",
            "2025-02-19 18:07:55.033 Thread 'MainThread': missing ScriptRunContext! This warning can be ignored when running in bare mode.\n",
            "2025-02-19 18:07:55.034 Thread 'MainThread': missing ScriptRunContext! This warning can be ignored when running in bare mode.\n",
            "2025-02-19 18:07:55.035 Thread 'MainThread': missing ScriptRunContext! This warning can be ignored when running in bare mode.\n",
            "2025-02-19 18:07:55.035 Thread 'MainThread': missing ScriptRunContext! This warning can be ignored when running in bare mode.\n",
            "2025-02-19 18:07:55.036 Thread 'MainThread': missing ScriptRunContext! This warning can be ignored when running in bare mode.\n",
            "2025-02-19 18:07:55.037 Thread 'MainThread': missing ScriptRunContext! This warning can be ignored when running in bare mode.\n",
            "2025-02-19 18:07:55.038 Thread 'MainThread': missing ScriptRunContext! This warning can be ignored when running in bare mode.\n",
            "2025-02-19 18:07:55.039 Thread 'MainThread': missing ScriptRunContext! This warning can be ignored when running in bare mode.\n",
            "2025-02-19 18:07:55.040 Thread 'MainThread': missing ScriptRunContext! This warning can be ignored when running in bare mode.\n",
            "2025-02-19 18:07:55.040 Thread 'MainThread': missing ScriptRunContext! This warning can be ignored when running in bare mode.\n",
            "2025-02-19 18:07:55.043 Thread 'MainThread': missing ScriptRunContext! This warning can be ignored when running in bare mode.\n",
            "2025-02-19 18:07:55.043 Thread 'MainThread': missing ScriptRunContext! This warning can be ignored when running in bare mode.\n",
            "2025-02-19 18:07:55.044 Thread 'MainThread': missing ScriptRunContext! This warning can be ignored when running in bare mode.\n",
            "2025-02-19 18:07:55.045 Thread 'MainThread': missing ScriptRunContext! This warning can be ignored when running in bare mode.\n",
            "2025-02-19 18:07:55.046 Thread 'MainThread': missing ScriptRunContext! This warning can be ignored when running in bare mode.\n",
            "2025-02-19 18:07:55.048 Thread 'MainThread': missing ScriptRunContext! This warning can be ignored when running in bare mode.\n",
            "2025-02-19 18:07:55.050 Thread 'MainThread': missing ScriptRunContext! This warning can be ignored when running in bare mode.\n",
            "2025-02-19 18:07:55.051 Thread 'MainThread': missing ScriptRunContext! This warning can be ignored when running in bare mode.\n",
            "2025-02-19 18:07:55.051 Thread 'MainThread': missing ScriptRunContext! This warning can be ignored when running in bare mode.\n",
            "2025-02-19 18:07:55.053 Thread 'MainThread': missing ScriptRunContext! This warning can be ignored when running in bare mode.\n",
            "2025-02-19 18:07:55.053 Thread 'MainThread': missing ScriptRunContext! This warning can be ignored when running in bare mode.\n",
            "2025-02-19 18:07:55.054 Thread 'MainThread': missing ScriptRunContext! This warning can be ignored when running in bare mode.\n",
            "2025-02-19 18:07:55.055 Thread 'MainThread': missing ScriptRunContext! This warning can be ignored when running in bare mode.\n",
            "2025-02-19 18:07:55.056 Thread 'MainThread': missing ScriptRunContext! This warning can be ignored when running in bare mode.\n",
            "2025-02-19 18:07:55.059 Thread 'MainThread': missing ScriptRunContext! This warning can be ignored when running in bare mode.\n",
            "2025-02-19 18:07:55.065 Thread 'MainThread': missing ScriptRunContext! This warning can be ignored when running in bare mode.\n",
            "2025-02-19 18:07:55.066 Thread 'MainThread': missing ScriptRunContext! This warning can be ignored when running in bare mode.\n",
            "2025-02-19 18:07:55.067 Thread 'MainThread': missing ScriptRunContext! This warning can be ignored when running in bare mode.\n",
            "2025-02-19 18:07:55.068 Thread 'MainThread': missing ScriptRunContext! This warning can be ignored when running in bare mode.\n",
            "2025-02-19 18:07:55.076 Thread 'MainThread': missing ScriptRunContext! This warning can be ignored when running in bare mode.\n",
            "2025-02-19 18:07:55.077 Thread 'MainThread': missing ScriptRunContext! This warning can be ignored when running in bare mode.\n",
            "2025-02-19 18:07:55.078 Thread 'MainThread': missing ScriptRunContext! This warning can be ignored when running in bare mode.\n",
            "2025-02-19 18:07:55.078 Thread 'MainThread': missing ScriptRunContext! This warning can be ignored when running in bare mode.\n",
            "2025-02-19 18:07:55.079 Thread 'MainThread': missing ScriptRunContext! This warning can be ignored when running in bare mode.\n",
            "2025-02-19 18:07:55.083 Thread 'MainThread': missing ScriptRunContext! This warning can be ignored when running in bare mode.\n",
            "2025-02-19 18:07:55.084 Thread 'MainThread': missing ScriptRunContext! This warning can be ignored when running in bare mode.\n",
            "2025-02-19 18:07:55.084 Thread 'MainThread': missing ScriptRunContext! This warning can be ignored when running in bare mode.\n",
            "2025-02-19 18:07:55.091 Thread 'MainThread': missing ScriptRunContext! This warning can be ignored when running in bare mode.\n",
            "2025-02-19 18:07:55.094 Thread 'MainThread': missing ScriptRunContext! This warning can be ignored when running in bare mode.\n",
            "2025-02-19 18:07:55.095 Thread 'MainThread': missing ScriptRunContext! This warning can be ignored when running in bare mode.\n",
            "2025-02-19 18:07:55.097 Thread 'MainThread': missing ScriptRunContext! This warning can be ignored when running in bare mode.\n",
            "2025-02-19 18:07:55.098 Thread 'MainThread': missing ScriptRunContext! This warning can be ignored when running in bare mode.\n",
            "2025-02-19 18:07:55.100 Thread 'MainThread': missing ScriptRunContext! This warning can be ignored when running in bare mode.\n",
            "2025-02-19 18:07:55.104 Thread 'MainThread': missing ScriptRunContext! This warning can be ignored when running in bare mode.\n",
            "2025-02-19 18:07:55.105 Thread 'MainThread': missing ScriptRunContext! This warning can be ignored when running in bare mode.\n",
            "2025-02-19 18:07:55.105 Thread 'MainThread': missing ScriptRunContext! This warning can be ignored when running in bare mode.\n",
            "2025-02-19 18:07:55.106 Thread 'MainThread': missing ScriptRunContext! This warning can be ignored when running in bare mode.\n",
            "2025-02-19 18:07:55.108 Thread 'MainThread': missing ScriptRunContext! This warning can be ignored when running in bare mode.\n",
            "2025-02-19 18:07:55.111 Thread 'MainThread': missing ScriptRunContext! This warning can be ignored when running in bare mode.\n",
            "2025-02-19 18:07:55.112 Thread 'MainThread': missing ScriptRunContext! This warning can be ignored when running in bare mode.\n",
            "2025-02-19 18:07:55.113 Thread 'MainThread': missing ScriptRunContext! This warning can be ignored when running in bare mode.\n",
            "2025-02-19 18:07:55.113 Thread 'MainThread': missing ScriptRunContext! This warning can be ignored when running in bare mode.\n",
            "2025-02-19 18:07:55.114 Thread 'MainThread': missing ScriptRunContext! This warning can be ignored when running in bare mode.\n",
            "2025-02-19 18:07:55.115 Thread 'MainThread': missing ScriptRunContext! This warning can be ignored when running in bare mode.\n",
            "2025-02-19 18:07:55.116 Thread 'MainThread': missing ScriptRunContext! This warning can be ignored when running in bare mode.\n",
            "2025-02-19 18:07:55.118 Thread 'MainThread': missing ScriptRunContext! This warning can be ignored when running in bare mode.\n",
            "2025-02-19 18:07:55.119 Thread 'MainThread': missing ScriptRunContext! This warning can be ignored when running in bare mode.\n",
            "2025-02-19 18:07:55.120 Thread 'MainThread': missing ScriptRunContext! This warning can be ignored when running in bare mode.\n",
            "2025-02-19 18:07:55.121 Thread 'MainThread': missing ScriptRunContext! This warning can be ignored when running in bare mode.\n",
            "2025-02-19 18:07:55.122 Thread 'MainThread': missing ScriptRunContext! This warning can be ignored when running in bare mode.\n",
            "2025-02-19 18:07:55.123 Thread 'MainThread': missing ScriptRunContext! This warning can be ignored when running in bare mode.\n",
            "2025-02-19 18:07:55.124 Thread 'MainThread': missing ScriptRunContext! This warning can be ignored when running in bare mode.\n",
            "2025-02-19 18:07:55.125 Thread 'MainThread': missing ScriptRunContext! This warning can be ignored when running in bare mode.\n",
            "2025-02-19 18:07:55.126 Thread 'MainThread': missing ScriptRunContext! This warning can be ignored when running in bare mode.\n",
            "2025-02-19 18:07:55.128 Thread 'MainThread': missing ScriptRunContext! This warning can be ignored when running in bare mode.\n",
            "2025-02-19 18:07:55.129 Thread 'MainThread': missing ScriptRunContext! This warning can be ignored when running in bare mode.\n"
          ]
        }
      ]
    },
    {
      "cell_type": "code",
      "source": [
        "# Update the ngrok and FastAPI setup section\n",
        "from pyngrok import ngrok, conf\n",
        "import nest_asyncio\n",
        "import streamlit as st\n",
        "import time\n",
        "\n",
        "# Apply nest_asyncio\n",
        "nest_asyncio.apply()\n",
        "\n",
        "# Initialize FastAPI app (keep your existing FastAPI code)\n",
        "app = FastAPI(title=\"Carbon Credits and Emissions Prediction API\")\n",
        "\n",
        "def setup_ngrok():\n",
        "    try:\n",
        "        # Kill any existing ngrok processes\n",
        "        ngrok.kill()\n",
        "\n",
        "        # Configure ngrok\n",
        "        NGROK_AUTH_TOKEN = \"2tFWCFyzMF9XGhYpgX1EWi9ntkg_65VBoAWGSCMToQLLBn6je\"\n",
        "        ngrok.set_auth_token(NGROK_AUTH_TOKEN)\n",
        "\n",
        "        # Set up a specific configuration for the tunnel\n",
        "        conf.get_default().config_path = None\n",
        "\n",
        "        # Start ngrok with explicit configuration\n",
        "        tunnel = ngrok.connect(addr=\"8000\", proto=\"http\", bind_tls=True)\n",
        "        time.sleep(3)  # Give ngrok a moment to establish the tunnel\n",
        "\n",
        "        return tunnel.public_url\n",
        "    except Exception as e:\n",
        "        print(f\"Error setting up ngrok: {e}\")\n",
        "        return None\n",
        "\n",
        "def run_fastapi():\n",
        "    config = uvicorn.Config(\n",
        "        app=app,\n",
        "        host=\"127.0.0.1\",  # Local host\n",
        "        port=8000,\n",
        "        log_level=\"info\",\n",
        "        loop=\"asyncio\"\n",
        "    )\n",
        "    server = uvicorn.Server(config)\n",
        "    try:\n",
        "        server.run()\n",
        "    except Exception as e:\n",
        "        print(f\"Error running FastAPI server: {e}\")\n",
        "\n",
        "if __name__ == \"__main__\":\n",
        "    # Start FastAPI in a separate thread\n",
        "    fastapi_thread = threading.Thread(target=run_fastapi, daemon=True)\n",
        "    fastapi_thread.start()\n",
        "    time.sleep(3)  # Give FastAPI server time to start\n",
        "\n",
        "    # Setup ngrok\n",
        "    ngrok_url = setup_ngrok()\n",
        "    if not ngrok_url:\n",
        "        print(\"Failed to establish ngrok connection\")\n",
        "        exit()\n",
        "\n",
        "    print(f\"Public URL: {ngrok_url}\")\n",
        "\n",
        "    # Your existing Streamlit code with updated API calls\n",
        "    st.title(\"Carbon Credit and Emissions Prediction App\")\n",
        "\n",
        "    if st.sidebar.button(\"Predict and Calculate\"):\n",
        "        if not area:\n",
        "            st.error(\"Please Provide Area.\")\n",
        "        else:\n",
        "            try:\n",
        "                # Create session for requests\n",
        "                session = requests.Session()\n",
        "\n",
        "                # Prepare parameters\n",
        "                params = {\n",
        "                    \"area\": area,\n",
        "                    \"year\": year,\n",
        "                    \"ch4_emissions_share\": ch4_emissions_share,\n",
        "                    \"co2_emissions_share\": co2_emissions_share,\n",
        "                    \"co2eq_ar5_emissions_share\": co2eq_ar5_emissions_share,\n",
        "                    \"co2eq_ar5_fgases_emissions_share\": co2eq_ar5_fgases_emissions_share,\n",
        "                    \"n2o_emissions_share\": n2o_emissions_share,\n",
        "                    \"emissions_per_capita\": emissions_per_capita,\n",
        "                    \"emissions_per_value\": emissions_per_value\n",
        "                }\n",
        "\n",
        "                # Make API calls with proper error handling\n",
        "                try:\n",
        "                    prediction_response = session.get(f\"{ngrok_url}/predict_emissions\", params=params, timeout=10)\n",
        "                    prediction_response.raise_for_status()\n",
        "                    predict_data = prediction_response.json()\n",
        "\n",
        "                    # Add additional parameters for carbon credits\n",
        "                    params.update({\n",
        "                        \"baseline_emissions_per_area\": baseline_emissions_per_area,\n",
        "                        \"reduction_achieved\": reduction_achieved\n",
        "                    })\n",
        "\n",
        "                    credits_response = session.get(f\"{ngrok_url}/calculate_carbon_credits\", params=params, timeout=10)\n",
        "                    credits_response.raise_for_status()\n",
        "                    credits_data = credits_response.json()\n",
        "\n",
        "                    # Display results\n",
        "                    st.subheader(\"Results\")\n",
        "                    st.write(f\"**Area:** {credits_data['area']}\")\n",
        "                    st.write(f\"**Year:** {credits_data['year']}\")\n",
        "                    st.write(f\"**Predicted Emissions per Area:** {credits_data['predicted_emissions_per_area']:.2f}\")\n",
        "                    st.write(f\"**Baseline Emissions per Area:** {credits_data['baseline_emissions_per_area']:.2f}\")\n",
        "                    st.write(f\"**Potential Carbon Credits:** {credits_data['potential_carbon_credits']:.2f}\")\n",
        "                    st.write(credits_data['message'])\n",
        "\n",
        "                except requests.exceptions.RequestException as e:\n",
        "                    st.error(f\"API Request Error: {str(e)}\")\n",
        "\n",
        "            except Exception as e:\n",
        "                st.error(f\"An unexpected error occurred: {str(e)}\")\n",
        "                print(f\"Error details: {e}\")\n",
        "\n",
        "# Clean up ngrok on script exit\n",
        "def cleanup():\n",
        "    try:\n",
        "        ngrok.kill()\n",
        "    except:\n",
        "        pass\n",
        "\n",
        "import atexit\n",
        "atexit.register(cleanup)\n"
      ],
      "metadata": {
        "colab": {
          "base_uri": "https://localhost:8080/",
          "height": 318
        },
        "id": "_Uyl2kvQGjH9",
        "outputId": "7085eec5-4cf6-41b4-a4d4-ba0dbdc08a12"
      },
      "execution_count": null,
      "outputs": [
        {
          "output_type": "stream",
          "name": "stderr",
          "text": [
            "INFO:     Started server process [736]\n",
            "INFO:     Waiting for application startup.\n",
            "INFO:     Application startup complete.\n",
            "INFO:     Uvicorn running on http://127.0.0.1:8000 (Press CTRL+C to quit)\n"
          ]
        },
        {
          "output_type": "stream",
          "name": "stdout",
          "text": []
        },
        {
          "output_type": "stream",
          "name": "stderr",
          "text": [
            "2025-02-19 18:08:03.976 Thread 'MainThread': missing ScriptRunContext! This warning can be ignored when running in bare mode.\n",
            "2025-02-19 18:08:03.978 Thread 'MainThread': missing ScriptRunContext! This warning can be ignored when running in bare mode.\n",
            "2025-02-19 18:08:03.982 Thread 'MainThread': missing ScriptRunContext! This warning can be ignored when running in bare mode.\n",
            "2025-02-19 18:08:03.983 Thread 'MainThread': missing ScriptRunContext! This warning can be ignored when running in bare mode.\n",
            "2025-02-19 18:08:03.984 Thread 'MainThread': missing ScriptRunContext! This warning can be ignored when running in bare mode.\n",
            "2025-02-19 18:08:03.986 Thread 'MainThread': missing ScriptRunContext! This warning can be ignored when running in bare mode.\n",
            "2025-02-19 18:08:03.987 Thread 'MainThread': missing ScriptRunContext! This warning can be ignored when running in bare mode.\n"
          ]
        },
        {
          "output_type": "stream",
          "name": "stdout",
          "text": [
            "Public URL: https://df8c-35-197-21-93.ngrok-free.app\n"
          ]
        },
        {
          "output_type": "execute_result",
          "data": {
            "text/plain": [
              "<function __main__.cleanup()>"
            ],
            "text/html": [
              "<div style=\"max-width:800px; border: 1px solid var(--colab-border-color);\"><style>\n",
              "      pre.function-repr-contents {\n",
              "        overflow-x: auto;\n",
              "        padding: 8px 12px;\n",
              "        max-height: 500px;\n",
              "      }\n",
              "\n",
              "      pre.function-repr-contents.function-repr-contents-collapsed {\n",
              "        cursor: pointer;\n",
              "        max-height: 100px;\n",
              "      }\n",
              "    </style>\n",
              "    <pre style=\"white-space: initial; background:\n",
              "         var(--colab-secondary-surface-color); padding: 8px 12px;\n",
              "         border-bottom: 1px solid var(--colab-border-color);\"><b>cleanup</b><br/>def cleanup()</pre><pre class=\"function-repr-contents function-repr-contents-collapsed\" style=\"\"><a class=\"filepath\" style=\"display:none\" href=\"#\">/content/&lt;ipython-input-23-d051b7df9a47&gt;</a>&lt;no docstring&gt;</pre></div>"
            ]
          },
          "metadata": {},
          "execution_count": 23
        }
      ]
    }
  ]
}