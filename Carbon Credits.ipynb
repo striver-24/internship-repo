{
  "nbformat": 4,
  "nbformat_minor": 0,
  "metadata": {
    "colab": {
      "provenance": [],
      "gpuType": "T4"
    },
    "kernelspec": {
      "name": "python3",
      "display_name": "Python 3"
    },
    "language_info": {
      "name": "python"
    },
    "accelerator": "GPU"
  },
  "cells": [
    {
      "cell_type": "code",
      "execution_count": null,
      "metadata": {
        "id": "QD_oLHSfNaxk"
      },
      "outputs": [],
      "source": [
        "import pandas as pd\n",
        "import matplotlib.pyplot as plt\n",
        "import seaborn as sns\n",
        "import numpy as np\n",
        "from sklearn.model_selection import train_test_split\n",
        "from sklearn.ensemble import RandomForestRegressor\n",
        "from sklearn.metrics import mean_squared_error, r2_score\n",
        "from sklearn.preprocessing import StandardScaler, OneHotEncoder\n",
        "from sklearn.compose import ColumnTransformer\n",
        "from sklearn.pipeline import Pipeline"
      ]
    },
    {
      "cell_type": "code",
      "source": [
        "try:\n",
        "    data = pd.read_csv(\"/content/dataset.csv\")\n",
        "except FileNotFoundError:\n",
        "    print(\"Error: FAOSTAT data file not found. Please provide the correct path.\")\n",
        "    exit()"
      ],
      "metadata": {
        "id": "OXGyjgKqNxhr"
      },
      "execution_count": null,
      "outputs": []
    },
    {
      "cell_type": "code",
      "source": [
        "# More efficient data preprocessing\n",
        "element_mapping = {\n",
        "    \"Emissions Share (CH4)\": \"Emissions_Share_CH4\",\n",
        "    \"Emissions Share (CO2)\": \"Emissions_Share_CO2\",\n",
        "    \"Emissions Share (CO2eq) (AR5)\": \"Emissions_Share_CO2eq_AR5\",\n",
        "    \"Emissions Share (CO2eq) (AR5) (F-gases)\": \"Emissions_Share_CO2eq_AR5_F_gases\",\n",
        "    \"Emissions Share (N2O)\": \"Emissions_Share_N2O\",\n",
        "    \"Emissions per area of agricultural land\": \"Emissions_per_area\",\n",
        "    \"Emissions per capita\": \"Emissions_per_capita\",\n",
        "    \"Emissions per value of agricultural production\": \"Emissions_per_value\",\n",
        "}"
      ],
      "metadata": {
        "id": "v2_QzqPRN29E"
      },
      "execution_count": null,
      "outputs": []
    },
    {
      "cell_type": "code",
      "source": [
        "print(data.columns)"
      ],
      "metadata": {
        "colab": {
          "base_uri": "https://localhost:8080/"
        },
        "id": "26Ka1W7MQoSK",
        "outputId": "04e20c1d-c95d-4d08-b210-add59e10a7c4"
      },
      "execution_count": null,
      "outputs": [
        {
          "output_type": "stream",
          "name": "stdout",
          "text": [
            "Index(['Domain Code', 'Domain', 'Area Code (M49)', 'Area', 'Element Code',\n",
            "       'Element', 'Item Code', 'Item', 'Year Code', 'Year', 'Unit', 'Value',\n",
            "       'Flag', 'Flag Description'],\n",
            "      dtype='object')\n"
          ]
        }
      ]
    },
    {
      "cell_type": "code",
      "source": [
        "print(data.head())"
      ],
      "metadata": {
        "id": "FEtziWgNQs4K",
        "outputId": "4cf01052-8c1a-45f0-fa0a-d04dc019d0b7",
        "colab": {
          "base_uri": "https://localhost:8080/"
        }
      },
      "execution_count": null,
      "outputs": [
        {
          "output_type": "stream",
          "name": "stdout",
          "text": [
            "  Domain Code                Domain  Area Code (M49)   Area  Element Code  \\\n",
            "0          EM  Emissions indicators              356  India        726313   \n",
            "1          EM  Emissions indicators              356  India        726313   \n",
            "2          EM  Emissions indicators              356  India        726313   \n",
            "3          EM  Emissions indicators              356  India        726313   \n",
            "4          EM  Emissions indicators              356  India        726313   \n",
            "\n",
            "                         Element  Item Code       Item  Year Code  Year Unit  \\\n",
            "0  Emissions Share (CO2eq) (AR5)       6996  Farm gate       1990  1990    %   \n",
            "1  Emissions Share (CO2eq) (AR5)       6996  Farm gate       1991  1991    %   \n",
            "2  Emissions Share (CO2eq) (AR5)       6996  Farm gate       1992  1992    %   \n",
            "3  Emissions Share (CO2eq) (AR5)       6996  Farm gate       1993  1993    %   \n",
            "4  Emissions Share (CO2eq) (AR5)       6996  Farm gate       1994  1994    %   \n",
            "\n",
            "   Value Flag Flag Description  \n",
            "0  51.99    E  Estimated value  \n",
            "1  50.97    E  Estimated value  \n",
            "2  49.92    E  Estimated value  \n",
            "3  50.01    E  Estimated value  \n",
            "4  49.00    E  Estimated value  \n"
          ]
        }
      ]
    },
    {
      "cell_type": "code",
      "source": [
        "data = data.groupby(['Area', 'Year', 'Element'])['Value'].mean().unstack().reset_index()  # More efficient pivot\n",
        "data.rename(columns=element_mapping, inplace=True)"
      ],
      "metadata": {
        "id": "afK_CUGKN7gM"
      },
      "execution_count": null,
      "outputs": []
    },
    {
      "cell_type": "code",
      "source": [
        "data.dropna(inplace=True)"
      ],
      "metadata": {
        "id": "f5KzGU41OAMN"
      },
      "execution_count": null,
      "outputs": []
    },
    {
      "cell_type": "code",
      "source": [
        "print(data)"
      ],
      "metadata": {
        "colab": {
          "base_uri": "https://localhost:8080/"
        },
        "id": "ZAQ59fg5CdAC",
        "outputId": "bf659bf8-1f7c-476f-9ce2-5936fa9c5825"
      },
      "execution_count": null,
      "outputs": [
        {
          "output_type": "stream",
          "name": "stdout",
          "text": [
            "Element   Area  Year  Emissions_Share_CH4  Emissions_Share_CO2  \\\n",
            "0        India  1990            41.741250            29.370833   \n",
            "1        India  1991            41.655625            29.525833   \n",
            "2        India  1992            41.632500            29.485833   \n",
            "3        India  1993            41.785000            29.737500   \n",
            "4        India  1994            41.705625            29.705833   \n",
            "5        India  1995            41.503750            29.770000   \n",
            "6        India  1996            41.460000            29.563333   \n",
            "7        India  1997            41.231250            29.645833   \n",
            "8        India  1998            41.246875            29.655833   \n",
            "9        India  1999            41.107500            29.282500   \n",
            "10       India  2000            41.029375            29.199167   \n",
            "11       India  2001            40.987500            28.823333   \n",
            "12       India  2002            40.828125            28.975833   \n",
            "13       India  2003            40.655000            29.064167   \n",
            "14       India  2004            40.530625            28.925000   \n",
            "15       India  2005            40.520000            28.661667   \n",
            "16       India  2006            40.485000            28.631667   \n",
            "17       India  2007            40.398125            28.035000   \n",
            "18       India  2008            40.203750            27.878333   \n",
            "19       India  2009            39.753750            27.804167   \n",
            "20       India  2010            39.681250            27.936667   \n",
            "21       India  2011            39.569375            27.547500   \n",
            "22       India  2012            39.380000            27.571667   \n",
            "23       India  2013            40.132500            28.222500   \n",
            "24       India  2014            39.965625            28.115000   \n",
            "25       India  2015            39.863750            27.643333   \n",
            "26       India  2016            39.820000            27.673333   \n",
            "27       India  2017            39.731250            27.530833   \n",
            "28       India  2018            39.557500            27.516667   \n",
            "29       India  2019            39.633125            27.539167   \n",
            "30       India  2020            39.796250            27.726667   \n",
            "31       India  2021            39.370625            27.467500   \n",
            "32       India  2022            39.198750            27.342500   \n",
            "\n",
            "Element  Emissions_Share_CO2eq_AR5  Emissions_Share_CO2eq_AR5_F_gases  \\\n",
            "0                        35.291250                             96.884   \n",
            "1                        34.926250                             96.616   \n",
            "2                        34.587500                             99.252   \n",
            "3                        34.521875                             84.320   \n",
            "4                        34.182500                             88.160   \n",
            "5                        33.795000                             93.696   \n",
            "6                        33.268750                             62.208   \n",
            "7                        33.045000                             62.912   \n",
            "8                        32.948750                             63.992   \n",
            "9                        32.428750                             65.124   \n",
            "10                       32.154375                             65.728   \n",
            "11                       30.879375                             68.376   \n",
            "12                       30.723750                             70.224   \n",
            "13                       30.602500                             71.036   \n",
            "14                       30.317500                             72.984   \n",
            "15                       30.120000                             79.288   \n",
            "16                       29.916875                             82.348   \n",
            "17                       29.425000                             83.356   \n",
            "18                       28.953125                             84.768   \n",
            "19                       28.333125                             85.724   \n",
            "20                       28.428750                             86.124   \n",
            "21                       28.183750                             86.524   \n",
            "22                       27.698750                             86.508   \n",
            "23                       28.079375                             86.612   \n",
            "24                       27.571250                             87.000   \n",
            "25                       27.155625                             87.108   \n",
            "26                       27.018750                             87.548   \n",
            "27                       26.789375                             87.068   \n",
            "28                       26.606250                             87.220   \n",
            "29                       26.552500                             87.268   \n",
            "30                       27.235625                             87.212   \n",
            "31                       26.608750                             87.192   \n",
            "32                       26.336875                             85.796   \n",
            "\n",
            "Element  Emissions_Share_N2O  Emissions_per_area  Emissions_per_capita  \\\n",
            "0                  44.656875            3.543333              0.515625   \n",
            "1                  44.625625            3.613333              0.521250   \n",
            "2                  44.636875            3.673333              0.525625   \n",
            "3                  44.616875            3.743333              0.525000   \n",
            "4                  44.659375            3.810000              0.532500   \n",
            "5                  44.606250            3.883333              0.537500   \n",
            "6                  44.819375            3.943333              0.544375   \n",
            "7                  44.912500            3.986667              0.548750   \n",
            "8                  44.901250            4.040000              0.545000   \n",
            "9                  44.745625            4.040000              0.550000   \n",
            "10                 44.622500            4.020000              0.543750   \n",
            "11                 44.721875            4.086667              0.580625   \n",
            "12                 44.549375            4.003333              0.570000   \n",
            "13                 44.535000            4.106667              0.577500   \n",
            "14                 44.343125            4.173333              0.585000   \n",
            "15                 44.571875            4.270000              0.595625   \n",
            "16                 44.614375            4.373333              0.610000   \n",
            "17                 44.139375            4.396667              0.621250   \n",
            "18                 44.153125            4.456667              0.640000   \n",
            "19                 43.606250            4.443333              0.660000   \n",
            "20                 43.858750            4.530000              0.660000   \n",
            "21                 44.011250            4.523333              0.660625   \n",
            "22                 43.418125            4.546667              0.680000   \n",
            "23                 43.760625            4.716667              0.679375   \n",
            "24                 43.631250            4.760000              0.707500   \n",
            "25                 43.493750            4.650000              0.711250   \n",
            "26                 43.322500            4.703333              0.721250   \n",
            "27                 43.024375            4.763333              0.731875   \n",
            "28                 42.985000            4.840000              0.746250   \n",
            "29                 43.348750            4.926667              0.756875   \n",
            "30                 44.009375            5.030000              0.718125   \n",
            "31                 43.341875            5.010000              0.750625   \n",
            "32                 43.471250            5.040000              0.768125   \n",
            "\n",
            "Element  Emissions_per_value  \n",
            "0                   3.490000  \n",
            "1                   3.483333  \n",
            "2                   3.403333  \n",
            "3                   3.390000  \n",
            "4                   3.336667  \n",
            "5                   3.300000  \n",
            "6                   3.223333  \n",
            "7                   3.196667  \n",
            "8                   3.173333  \n",
            "9                   3.040000  \n",
            "10                  3.056667  \n",
            "11                  3.010000  \n",
            "12                  3.183333  \n",
            "13                  2.950000  \n",
            "14                  3.030000  \n",
            "15                  2.933333  \n",
            "16                  2.843333  \n",
            "17                  2.626667  \n",
            "18                  2.626667  \n",
            "19                  2.676667  \n",
            "20                  2.466667  \n",
            "21                  2.306667  \n",
            "22                  2.273333  \n",
            "23                  2.253333  \n",
            "24                  2.223333  \n",
            "25                  2.203333  \n",
            "26                  2.140000  \n",
            "27                  2.036667  \n",
            "28                  1.990000  \n",
            "29                  1.973333  \n",
            "30                  1.950000  \n",
            "31                  1.856667  \n",
            "32                  1.846667  \n"
          ]
        }
      ]
    },
    {
      "cell_type": "code",
      "source": [
        "# Convert numeric columns after renaming and dropping NaNs\n",
        "numeric_cols = list(element_mapping.values())\n",
        "data[numeric_cols] = data[numeric_cols].apply(pd.to_numeric, errors='coerce')  # More efficient numeric conversion\n",
        "data.dropna(inplace=True) # Drop any new NaNs created from conversion."
      ],
      "metadata": {
        "id": "GMzf1lExOEq7"
      },
      "execution_count": null,
      "outputs": []
    },
    {
      "cell_type": "code",
      "source": [
        "data['Total_Emissions_Share'] = data[[col for col in data.columns if col.startswith('Emissions_Share_')]].sum(axis=1)"
      ],
      "metadata": {
        "id": "VKhGQCGUOI3J"
      },
      "execution_count": null,
      "outputs": []
    },
    {
      "cell_type": "code",
      "source": [
        "X = data.drop([\"Emissions_per_area\", 'Area', 'Year'], axis=1)\n",
        "y = 1 / (data[\"Emissions_per_area\"] + 1e-9)"
      ],
      "metadata": {
        "id": "0jEyZJx_OQPD"
      },
      "execution_count": null,
      "outputs": []
    },
    {
      "cell_type": "code",
      "source": [
        "numerical_features = X.select_dtypes(include=np.number).columns.tolist()\n",
        "categorical_features = [col for col in X.columns if col not in numerical_features]"
      ],
      "metadata": {
        "id": "WKrMG0XlOWnF"
      },
      "execution_count": null,
      "outputs": []
    },
    {
      "cell_type": "code",
      "source": [
        "preprocessor = ColumnTransformer(\n",
        "    transformers=[\n",
        "        ('num', StandardScaler(), numerical_features),\n",
        "        ('cat', OneHotEncoder(handle_unknown='ignore'), categorical_features)],\n",
        "    remainder='passthrough'  # Handle any unexpected columns more robustly\n",
        ")"
      ],
      "metadata": {
        "id": "3xSSLAl-ObUI"
      },
      "execution_count": null,
      "outputs": []
    },
    {
      "cell_type": "code",
      "source": [
        "pipeline = Pipeline(steps=[('preprocessor', preprocessor),\n",
        "                            ('regressor', RandomForestRegressor(random_state=42))])"
      ],
      "metadata": {
        "id": "p-fRj3wiOfEn"
      },
      "execution_count": null,
      "outputs": []
    },
    {
      "cell_type": "code",
      "source": [
        "X_train, X_test, y_train, y_test = train_test_split(X, y, test_size=0.2, random_state=42)\n",
        "pipeline.fit(X_train, y_train)\n",
        "y_pred = pipeline.predict(X_test)\n",
        "\n",
        "mse = mean_squared_error(y_test, y_pred)\n",
        "r2 = r2_score(y_test, y_pred)"
      ],
      "metadata": {
        "id": "BLe_kWCVOo-d"
      },
      "execution_count": null,
      "outputs": []
    },
    {
      "cell_type": "code",
      "source": [
        "print(f\"Mean Squared Error: {mse}\")\n",
        "print(f\"R-squared: {r2}\")"
      ],
      "metadata": {
        "colab": {
          "base_uri": "https://localhost:8080/"
        },
        "id": "iDSOztvoOvrq",
        "outputId": "ee4a234f-f02b-451e-deae-8a313e34d285"
      },
      "execution_count": null,
      "outputs": [
        {
          "output_type": "stream",
          "name": "stdout",
          "text": [
            "Mean Squared Error: 1.01601441381463e-05\n",
            "R-squared: 0.9616051773071611\n"
          ]
        }
      ]
    },
    {
      "cell_type": "code",
      "source": [
        "# More efficient feature importance retrieval\n",
        "feature_names = pipeline.named_steps['preprocessor'].get_feature_names_out()\n",
        "importances = pipeline.named_steps['regressor'].feature_importances_\n",
        "feature_importance_df = pd.DataFrame({'Feature': feature_names, 'Importance': importances}).sort_values(by='Importance', ascending=False)"
      ],
      "metadata": {
        "id": "Jf9my2l5OyPO"
      },
      "execution_count": null,
      "outputs": []
    },
    {
      "cell_type": "code",
      "source": [
        "print(\"\\nFeature Importances:\")\n",
        "print(feature_importance_df)"
      ],
      "metadata": {
        "colab": {
          "base_uri": "https://localhost:8080/"
        },
        "id": "saO6p52FO3dD",
        "outputId": "6beef8c7-1e25-4dd3-f80e-14f725fbff53"
      },
      "execution_count": null,
      "outputs": [
        {
          "output_type": "stream",
          "name": "stdout",
          "text": [
            "\n",
            "Feature Importances:\n",
            "                                  Feature  Importance\n",
            "5               num__Emissions_per_capita    0.259200\n",
            "2          num__Emissions_Share_CO2eq_AR5    0.229881\n",
            "6                num__Emissions_per_value    0.177096\n",
            "0                num__Emissions_Share_CH4    0.139847\n",
            "1                num__Emissions_Share_CO2    0.117038\n",
            "4                num__Emissions_Share_N2O    0.045439\n",
            "3  num__Emissions_Share_CO2eq_AR5_F_gases    0.020656\n",
            "7              num__Total_Emissions_Share    0.010844\n"
          ]
        }
      ]
    },
    {
      "cell_type": "code",
      "source": [
        "# Plotting\n",
        "plt.figure(figsize=(10, 6))\n",
        "sns.histplot(data['Emissions_per_area'], kde=True)\n",
        "plt.title('Distribution of Emissions per Area')\n",
        "plt.xlabel('Emissions per Area')\n",
        "plt.ylabel('Frequency')\n",
        "plt.show()"
      ],
      "metadata": {
        "colab": {
          "base_uri": "https://localhost:8080/",
          "height": 564
        },
        "id": "NprWrz6wO7Oc",
        "outputId": "91fa7417-fa92-44c8-f296-1d8f1ec040f6"
      },
      "execution_count": null,
      "outputs": [
        {
          "output_type": "display_data",
          "data": {
            "text/plain": [
              "<Figure size 1000x600 with 1 Axes>"
            ],
            "image/png": "[encoded data removed]"
          },
          "metadata": {}
        }
      ]
    },
    {
      "cell_type": "code",
      "source": [
        "plt.figure(figsize=(10, 6))\n",
        "plt.barh(feature_importance_df['Feature'], feature_importance_df['Importance'])\n",
        "plt.title('Feature Importances')\n",
        "plt.xlabel('Importance')\n",
        "plt.ylabel('Feature')\n",
        "plt.gca().invert_yaxis()\n",
        "plt.show()"
      ],
      "metadata": {
        "colab": {
          "base_uri": "https://localhost:8080/",
          "height": 564
        },
        "id": "wNkD05blPEuy",
        "outputId": "eee86159-debd-4dc0-da01-fb07c486c0d4"
      },
      "execution_count": null,
      "outputs": [
        {
          "output_type": "display_data",
          "data": {
            "text/plain": [
              "<Figure size 1000x600 with 1 Axes>"
            ],
            "image/png": "[encoded data removed]"
          },
          "metadata": {}
        }
      ]
    },
    {
      "cell_type": "markdown",
      "source": [
        "##Future Predicitions Sample"
      ],
      "metadata": {
        "id": "-1qysD2GPJDD"
      }
    },
    {
      "cell_type": "code",
      "source": [
        "future_data = pd.DataFrame({\n",
        "    'Area': ['USA', 'Canada', 'Mexico'],\n",
        "    'Year': [2025, 2025, 2025],\n",
        "    'Emissions_Share_CH4': [8, 7, 9],\n",
        "    'Emissions_Share_CO2': [45, 40, 55],\n",
        "    'Emissions_Share_CO2eq_AR5': [55, 50, 65],\n",
        "    'Emissions_Share_CO2eq_AR5_F_gases': [2, 1, 3],\n",
        "    'Emissions_Share_N2O': [5, 4, 6],\n",
        "    'Emissions_per_capita': [15, 14, 16],\n",
        "    'Emissions_per_value': [10, 9, 11]\n",
        "})"
      ],
      "metadata": {
        "id": "59ArhiiIPMuf"
      },
      "execution_count": null,
      "outputs": []
    },
    {
      "cell_type": "code",
      "source": [
        "future_data['Total_Emissions_Share'] = future_data[[col for col in future_data.columns if col.startswith('Emissions_Share_')]].sum(axis=1)"
      ],
      "metadata": {
        "id": "3kPO1nSGPR7U"
      },
      "execution_count": null,
      "outputs": []
    },
    {
      "cell_type": "code",
      "source": [
        "X_future = future_data.drop(['Area', 'Year'], axis=1)\n",
        "\n",
        "predictions = pipeline.predict(X_future)\n",
        "\n",
        "X_future_transformed = pipeline.named_steps['preprocessor'].transform(X_future)\n",
        "predictions = pipeline.named_steps['regressor'].predict(X_future_transformed)"
      ],
      "metadata": {
        "id": "RudmBRsePXAD"
      },
      "execution_count": null,
      "outputs": []
    },
    {
      "cell_type": "code",
      "source": [
        "feature_names = pipeline.named_steps['preprocessor'].get_feature_names_out()\n",
        "X_future_transformed = pd.DataFrame(X_future_transformed, columns=feature_names)"
      ],
      "metadata": {
        "id": "3AGB7MS9QJJ9"
      },
      "execution_count": null,
      "outputs": []
    },
    {
      "cell_type": "code",
      "source": [
        "future_predictions = pipeline.predict(X_future)\n",
        "future_data['Predicted_Emissions_per_area'] = 1 / (future_predictions + 1e-9)"
      ],
      "metadata": {
        "id": "PHz6xWUrQRqO"
      },
      "execution_count": null,
      "outputs": []
    },
    {
      "cell_type": "code",
      "source": [
        "print(\"\\nFuture Predictions:\")\n",
        "print(future_data)"
      ],
      "metadata": {
        "colab": {
          "base_uri": "https://localhost:8080/"
        },
        "id": "_35Jbg7IQV0q",
        "outputId": "8e94991c-cf78-4f26-bec6-252e69eee124"
      },
      "execution_count": null,
      "outputs": [
        {
          "output_type": "stream",
          "name": "stdout",
          "text": [
            "\n",
            "Future Predictions:\n",
            "     Area  Year  Emissions_Share_CH4  Emissions_Share_CO2  \\\n",
            "0     USA  2025                    8                   45   \n",
            "1  Canada  2025                    7                   40   \n",
            "2  Mexico  2025                    9                   55   \n",
            "\n",
            "   Emissions_Share_CO2eq_AR5  Emissions_Share_CO2eq_AR5_F_gases  \\\n",
            "0                         55                                  2   \n",
            "1                         50                                  1   \n",
            "2                         65                                  3   \n",
            "\n",
            "   Emissions_Share_N2O  Emissions_per_capita  Emissions_per_value  \\\n",
            "0                    5                    15                   10   \n",
            "1                    4                    14                    9   \n",
            "2                    6                    16                   11   \n",
            "\n",
            "   Total_Emissions_Share  Predicted_Emissions_per_area  \n",
            "0                    115                      4.173838  \n",
            "1                    102                      4.173838  \n",
            "2                    138                      4.173838  \n"
          ]
        }
      ]
    },
    {
      "cell_type": "code",
      "source": [
        "# Assuming 'baseline_emissions' is your defined baseline\n",
        "baseline_emissions = 1.2\n",
        "\n",
        "# 'future_data' from your notebook contains predictions\n",
        "future_data['Emission_Reduction'] = baseline_emissions - future_data['Predicted_Emissions_per_area']\n",
        "\n",
        "area_mapping = {\n",
        "    'USA': 914742000,  # Example value in hectares\n",
        "    'Canada': 909350700,  # Example value in hectares\n",
        "    'Mexico': 197255000  # Example value in hectares\n",
        "}\n",
        "future_data['Area_in_hectares'] = future_data['Area'].map(area_mapping)\n",
        "\n",
        "\n",
        "# Calculate carbon credits\n",
        "future_data['Carbon_Credits'] = future_data['Emission_Reduction'] * future_data['Area_in_hectares']\n",
        "\n",
        "print(future_data[['Area', 'Carbon_Credits']])"
      ],
      "metadata": {
        "colab": {
          "base_uri": "https://localhost:8080/"
        },
        "id": "rcZJZW-qEZi8",
        "outputId": "8e62ff50-4f0e-4d5d-821e-f50b90704260"
      },
      "execution_count": null,
      "outputs": [
        {
          "output_type": "stream",
          "name": "stdout",
          "text": [
            "     Area  Carbon_Credits\n",
            "0     USA   -2.720294e+09\n",
            "1  Canada   -2.704261e+09\n",
            "2  Mexico   -5.866043e+08\n"
          ]
        }
      ]
    }
  ]
}