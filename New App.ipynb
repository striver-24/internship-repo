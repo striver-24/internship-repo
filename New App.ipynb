{
  "cells": [
    {
      "cell_type": "code",
      "execution_count": null,
      "metadata": {
        "colab": {
          "background_save": true,
          "base_uri": "https://localhost:8080/"
        },
        "id": "uJ9Uc_snJloz",
        "outputId": "2991c10e-b4d7-4831-8e3d-6669d432cffc"
      },
      "outputs": [
        {
          "name": "stdout",
          "output_type": "stream",
          "text": [
            "Collecting fastapi\n",
            "  Downloading fastapi-0.115.12-py3-none-any.whl.metadata (27 kB)\n",
            "Collecting uvicorn\n",
            "  Downloading uvicorn-0.34.2-py3-none-any.whl.metadata (6.5 kB)\n",
            "Collecting pyngrok\n",
            "  Downloading pyngrok-7.2.5-py3-none-any.whl.metadata (8.9 kB)\n",
            "Requirement already satisfied: nest_asyncio in /usr/local/lib/python3.11/dist-packages (1.6.0)\n",
            "Collecting streamlit\n",
            "  Downloading streamlit-1.44.1-py3-none-any.whl.metadata (8.9 kB)\n",
            "Collecting starlette<0.47.0,>=0.40.0 (from fastapi)\n",
            "  Downloading starlette-0.46.2-py3-none-any.whl.metadata (6.2 kB)\n",
            "Requirement already satisfied: pydantic!=1.8,!=1.8.1,!=2.0.0,!=2.0.1,!=2.1.0,<3.0.0,>=1.7.4 in /usr/local/lib/python3.11/dist-packages (from fastapi) (2.11.3)\n",
            "Requirement already satisfied: typing-extensions>=4.8.0 in /usr/local/lib/python3.11/dist-packages (from fastapi) (4.13.2)\n",
            "Requirement already satisfied: click>=7.0 in /usr/local/lib/python3.11/dist-packages (from uvicorn) (8.1.8)\n",
            "Requirement already satisfied: h11>=0.8 in /usr/local/lib/python3.11/dist-packages (from uvicorn) (0.14.0)\n",
            "Requirement already satisfied: PyYAML>=5.1 in /usr/local/lib/python3.11/dist-packages (from pyngrok) (6.0.2)\n",
            "Requirement already satisfied: altair<6,>=4.0 in /usr/local/lib/python3.11/dist-packages (from streamlit) (5.5.0)\n",
            "Requirement already satisfied: blinker<2,>=1.0.0 in /usr/local/lib/python3.11/dist-packages (from streamlit) (1.9.0)\n",
            "Requirement already satisfied: cachetools<6,>=4.0 in /usr/local/lib/python3.11/dist-packages (from streamlit) (5.5.2)\n",
            "Requirement already satisfied: numpy<3,>=1.23 in /usr/local/lib/python3.11/dist-packages (from streamlit) (2.0.2)\n",
            "Requirement already satisfied: packaging<25,>=20 in /usr/local/lib/python3.11/dist-packages (from streamlit) (24.2)\n",
            "Requirement already satisfied: pandas<3,>=1.4.0 in /usr/local/lib/python3.11/dist-packages (from streamlit) (2.2.2)\n",
            "Requirement already satisfied: pillow<12,>=7.1.0 in /usr/local/lib/python3.11/dist-packages (from streamlit) (11.1.0)\n",
            "Requirement already satisfied: protobuf<6,>=3.20 in /usr/local/lib/python3.11/dist-packages (from streamlit) (5.29.4)\n",
            "Requirement already satisfied: pyarrow>=7.0 in /usr/local/lib/python3.11/dist-packages (from streamlit) (18.1.0)\n",
            "Requirement already satisfied: requests<3,>=2.27 in /usr/local/lib/python3.11/dist-packages (from streamlit) (2.32.3)\n",
            "Requirement already satisfied: tenacity<10,>=8.1.0 in /usr/local/lib/python3.11/dist-packages (from streamlit) (9.1.2)\n",
            "Requirement already satisfied: toml<2,>=0.10.1 in /usr/local/lib/python3.11/dist-packages (from streamlit) (0.10.2)\n",
            "Collecting watchdog<7,>=2.1.5 (from streamlit)\n",
            "  Downloading watchdog-6.0.0-py3-none-manylinux2014_x86_64.whl.metadata (44 kB)\n",
            "\u001b[2K     \u001b[90m━━━━━━━━━━━━━━━━━━━━━━━━━━━━━━━━━━━━━━━━\u001b[0m \u001b[32m44.3/44.3 kB\u001b[0m \u001b[31m1.4 MB/s\u001b[0m eta \u001b[36m0:00:00\u001b[0m\n",
            "\u001b[?25hRequirement already satisfied: gitpython!=3.1.19,<4,>=3.0.7 in /usr/local/lib/python3.11/dist-packages (from streamlit) (3.1.44)\n",
            "Collecting pydeck<1,>=0.8.0b4 (from streamlit)\n",
            "  Downloading pydeck-0.9.1-py2.py3-none-any.whl.metadata (4.1 kB)\n",
            "Requirement already satisfied: tornado<7,>=6.0.3 in /usr/local/lib/python3.11/dist-packages (from streamlit) (6.4.2)\n",
            "Requirement already satisfied: jinja2 in /usr/local/lib/python3.11/dist-packages (from altair<6,>=4.0->streamlit) (3.1.6)\n",
            "Requirement already satisfied: jsonschema>=3.0 in /usr/local/lib/python3.11/dist-packages (from altair<6,>=4.0->streamlit) (4.23.0)\n",
            "Requirement already satisfied: narwhals>=1.14.2 in /usr/local/lib/python3.11/dist-packages (from altair<6,>=4.0->streamlit) (1.35.0)\n",
            "Requirement already satisfied: gitdb<5,>=4.0.1 in /usr/local/lib/python3.11/dist-packages (from gitpython!=3.1.19,<4,>=3.0.7->streamlit) (4.0.12)\n",
            "Requirement already satisfied: python-dateutil>=2.8.2 in /usr/local/lib/python3.11/dist-packages (from pandas<3,>=1.4.0->streamlit) (2.8.2)\n",
            "Requirement already satisfied: pytz>=2020.1 in /usr/local/lib/python3.11/dist-packages (from pandas<3,>=1.4.0->streamlit) (2025.2)\n",
            "Requirement already satisfied: tzdata>=2022.7 in /usr/local/lib/python3.11/dist-packages (from pandas<3,>=1.4.0->streamlit) (2025.2)\n",
            "Requirement already satisfied: annotated-types>=0.6.0 in /usr/local/lib/python3.11/dist-packages (from pydantic!=1.8,!=1.8.1,!=2.0.0,!=2.0.1,!=2.1.0,<3.0.0,>=1.7.4->fastapi) (0.7.0)\n",
            "Requirement already satisfied: pydantic-core==2.33.1 in /usr/local/lib/python3.11/dist-packages (from pydantic!=1.8,!=1.8.1,!=2.0.0,!=2.0.1,!=2.1.0,<3.0.0,>=1.7.4->fastapi) (2.33.1)\n",
            "Requirement already satisfied: typing-inspection>=0.4.0 in /usr/local/lib/python3.11/dist-packages (from pydantic!=1.8,!=1.8.1,!=2.0.0,!=2.0.1,!=2.1.0,<3.0.0,>=1.7.4->fastapi) (0.4.0)\n",
            "Requirement already satisfied: charset-normalizer<4,>=2 in /usr/local/lib/python3.11/dist-packages (from requests<3,>=2.27->streamlit) (3.4.1)\n",
            "Requirement already satisfied: idna<4,>=2.5 in /usr/local/lib/python3.11/dist-packages (from requests<3,>=2.27->streamlit) (3.10)\n",
            "Requirement already satisfied: urllib3<3,>=1.21.1 in /usr/local/lib/python3.11/dist-packages (from requests<3,>=2.27->streamlit) (2.3.0)\n",
            "Requirement already satisfied: certifi>=2017.4.17 in /usr/local/lib/python3.11/dist-packages (from requests<3,>=2.27->streamlit) (2025.1.31)\n",
            "Requirement already satisfied: anyio<5,>=3.6.2 in /usr/local/lib/python3.11/dist-packages (from starlette<0.47.0,>=0.40.0->fastapi) (4.9.0)\n",
            "Requirement already satisfied: sniffio>=1.1 in /usr/local/lib/python3.11/dist-packages (from anyio<5,>=3.6.2->starlette<0.47.0,>=0.40.0->fastapi) (1.3.1)\n",
            "Requirement already satisfied: smmap<6,>=3.0.1 in /usr/local/lib/python3.11/dist-packages (from gitdb<5,>=4.0.1->gitpython!=3.1.19,<4,>=3.0.7->streamlit) (5.0.2)\n",
            "Requirement already satisfied: MarkupSafe>=2.0 in /usr/local/lib/python3.11/dist-packages (from jinja2->altair<6,>=4.0->streamlit) (3.0.2)\n",
            "Requirement already satisfied: attrs>=22.2.0 in /usr/local/lib/python3.11/dist-packages (from jsonschema>=3.0->altair<6,>=4.0->streamlit) (25.3.0)\n",
            "Requirement already satisfied: jsonschema-specifications>=2023.03.6 in /usr/local/lib/python3.11/dist-packages (from jsonschema>=3.0->altair<6,>=4.0->streamlit) (2024.10.1)\n",
            "Requirement already satisfied: referencing>=0.28.4 in /usr/local/lib/python3.11/dist-packages (from jsonschema>=3.0->altair<6,>=4.0->streamlit) (0.36.2)\n",
            "Requirement already satisfied: rpds-py>=0.7.1 in /usr/local/lib/python3.11/dist-packages (from jsonschema>=3.0->altair<6,>=4.0->streamlit) (0.24.0)\n",
            "Requirement already satisfied: six>=1.5 in /usr/local/lib/python3.11/dist-packages (from python-dateutil>=2.8.2->pandas<3,>=1.4.0->streamlit) (1.17.0)\n",
            "Downloading fastapi-0.115.12-py3-none-any.whl (95 kB)\n",
            "\u001b[2K   \u001b[90m━━━━━━━━━━━━━━━━━━━━━━━━━━━━━━━━━━━━━━━━\u001b[0m \u001b[32m95.2/95.2 kB\u001b[0m \u001b[31m2.7 MB/s\u001b[0m eta \u001b[36m0:00:00\u001b[0m\n",
            "\u001b[?25hDownloading uvicorn-0.34.2-py3-none-any.whl (62 kB)\n",
            "\u001b[2K   \u001b[90m━━━━━━━━━━━━━━━━━━━━━━━━━━━━━━━━━━━━━━━━\u001b[0m \u001b[32m62.5/62.5 kB\u001b[0m \u001b[31m2.5 MB/s\u001b[0m eta \u001b[36m0:00:00\u001b[0m\n",
            "\u001b[?25hDownloading pyngrok-7.2.5-py3-none-any.whl (23 kB)\n",
            "Downloading streamlit-1.44.1-py3-none-any.whl (9.8 MB)\n",
            "\u001b[2K   \u001b[90m━━━━━━━━━━━━━━━━━━━━━━━━━━━━━━━━━━━━━━━━\u001b[0m \u001b[32m9.8/9.8 MB\u001b[0m \u001b[31m27.7 MB/s\u001b[0m eta \u001b[36m0:00:00\u001b[0m\n",
            "\u001b[?25hDownloading pydeck-0.9.1-py2.py3-none-any.whl (6.9 MB)\n",
            "\u001b[2K   \u001b[90m━━━━━━━━━━━━━━━━━━━━━━━━━━━━━━━━━━━━━━━━\u001b[0m \u001b[32m6.9/6.9 MB\u001b[0m \u001b[31m57.6 MB/s\u001b[0m eta \u001b[36m0:00:00\u001b[0m\n",
            "\u001b[?25hDownloading starlette-0.46.2-py3-none-any.whl (72 kB)\n",
            "\u001b[2K   \u001b[90m━━━━━━━━━━━━━━━━━━━━━━━━━━━━━━━━━━━━━━━━\u001b[0m \u001b[32m72.0/72.0 kB\u001b[0m \u001b[31m3.7 MB/s\u001b[0m eta \u001b[36m0:00:00\u001b[0m\n",
            "\u001b[?25hDownloading watchdog-6.0.0-py3-none-manylinux2014_x86_64.whl (79 kB)\n",
            "\u001b[2K   \u001b[90m━━━━━━━━━━━━━━━━━━━━━━━━━━━━━━━━━━━━━━━━\u001b[0m \u001b[32m79.1/79.1 kB\u001b[0m \u001b[31m5.0 MB/s\u001b[0m eta \u001b[36m0:00:00\u001b[0m\n",
            "\u001b[?25hInstalling collected packages: watchdog, uvicorn, pyngrok, starlette, pydeck, fastapi, streamlit\n",
            "Successfully installed fastapi-0.115.12 pydeck-0.9.1 pyngrok-7.2.5 starlette-0.46.2 streamlit-1.44.1 uvicorn-0.34.2 watchdog-6.0.0\n"
          ]
        }
      ],
      "source": [
        "!pip install fastapi uvicorn pyngrok nest_asyncio streamlit"
      ]
    },
    {
      "cell_type": "code",
      "execution_count": null,
      "metadata": {
        "id": "lMS93nDTIe5M"
      },
      "outputs": [],
      "source": [
        "from fastapi import FastAPI\n",
        "import pandas as pd\n",
        "import numpy as np\n",
        "import tensorflow as tf\n",
        "from tensorflow.keras.models import Sequential\n",
        "from tensorflow.keras.layers import LSTM, Dense, Dropout, Bidirectional, BatchNormalization\n",
        "from tensorflow.keras.optimizers import Adam\n",
        "from tensorflow.keras.losses import Huber\n",
        "from tensorflow.keras.callbacks import ReduceLROnPlateau, EarlyStopping\n",
        "from sklearn.model_selection import train_test_split\n",
        "from sklearn.metrics import mean_absolute_error, mean_squared_error, r2_score\n",
        "import matplotlib.pyplot as plt\n",
        "import seaborn as sns\n",
        "from sklearn.preprocessing import MinMaxScaler\n",
        "import uvicorn\n",
        "from pyngrok import ngrok\n",
        "import nest_asyncio"
      ]
    },
    {
      "cell_type": "code",
      "execution_count": null,
      "metadata": {
        "id": "Dd-19-IxKvKv"
      },
      "outputs": [],
      "source": [
        "app = FastAPI()"
      ]
    },
    {
      "cell_type": "code",
      "execution_count": null,
      "metadata": {
        "id": "by9WJHry8ZeX"
      },
      "outputs": [],
      "source": [
        "import pandas as pd\n",
        "import requests\n",
        "\n",
        "# Fetch the data.\n",
        "df = pd.read_csv(\"https://ourworldindata.org/grapher/annual-co2-emissions-per-country.csv?v=1&csvType=filtered&useColumnShortNames=true&country=IND~AFG~OWID_AFR~ALB~DZA~LUX~IRL~SGP~QAT~BMU~ARE~CHE~NOR~USA~DNK~NLD~BRN~HKG~AUT~ISL~SWE~DEU~BEL~BHR~MAC~AUS~SAU~KWT~CAN~FIN~MLT~GBR~FRA~KOR~NZL~CYP~ISR~ITA~JPN~ABW~CZE~SVN~ESP~LTU~EST~POL~PRT~HUN~GUY~OMN~BHS~HRV~PAN~SVK~TUR~LVA~ROU~GRC~KNA~MYS~RUS~ARG~KAZ~BGR~CHL~SYC~URY~TTO~CUW~MUS~ATG~MNE~CRI~MDV~SRB~MEX~LBY~DOM~BLR~CHN~THA~GEO~COL~BWA~IRN~BRB~BRA~AZE~ZAF~EGY~LKA~UKR~TUN~SLV~IRQ~PHL~UZB~BGD~PAK~PSE~MRT~KHM~MMR~TJK~NPL~ZWE\", storage_options = {'User-Agent': 'Our World In Data data fetch/1.0'})\n",
        "\n",
        "# Fetch the metadata\n",
        "metadata = requests.get(\"https://ourworldindata.org/grapher/annual-co2-emissions-per-country.metadata.json?v=1&csvType=filtered&useColumnShortNames=true&country=IND~AFG~OWID_AFR~ALB~DZA~LUX~IRL~SGP~QAT~BMU~ARE~CHE~NOR~USA~DNK~NLD~BRN~HKG~AUT~ISL~SWE~DEU~BEL~BHR~MAC~AUS~SAU~KWT~CAN~FIN~MLT~GBR~FRA~KOR~NZL~CYP~ISR~ITA~JPN~ABW~CZE~SVN~ESP~LTU~EST~POL~PRT~HUN~GUY~OMN~BHS~HRV~PAN~SVK~TUR~LVA~ROU~GRC~KNA~MYS~RUS~ARG~KAZ~BGR~CHL~SYC~URY~TTO~CUW~MUS~ATG~MNE~CRI~MDV~SRB~MEX~LBY~DOM~BLR~CHN~THA~GEO~COL~BWA~IRN~BRB~BRA~AZE~ZAF~EGY~LKA~UKR~TUN~SLV~IRQ~PHL~UZB~BGD~PAK~PSE~MRT~KHM~MMR~TJK~NPL~ZWE\").json()"
      ]
    },
    {
      "cell_type": "code",
      "execution_count": null,
      "metadata": {
        "id": "BRwv5cUN--Yn"
      },
      "outputs": [],
      "source": [
        "# Data preprocessing\n",
        "df.columns = df.columns.str.strip()\n",
        "df = df.rename(columns={'Entity': 'Country', 'Year': 'Year', df.columns[-1]: 'CO2_Emissions'})\n",
        "df = df[['Country', 'Year', 'CO2_Emissions']]\n",
        "df = df.dropna()\n",
        "\n",
        "# Normalize data\n",
        "scaler = StandardScaler()\n",
        "df['CO2_Emissions'] = scaler.fit_transform(df[['CO2_Emissions']])"
      ]
    },
    {
      "cell_type": "code",
      "execution_count": null,
      "metadata": {
        "id": "Beaz30Zh_F4n"
      },
      "outputs": [],
      "source": [
        "#Feature engineering (rolling window of 20 years)\n",
        "def create_sequences(data, seq_length=20):\n",
        "    X, y = [], []\n",
        "    for i in range(len(data) - seq_length):\n",
        "        X.append(data[i:i+seq_length])\n",
        "        y.append(data[i+seq_length])\n",
        "    return np.array(X), np.array(y)\n",
        "\n",
        "seq_length = 20"
      ]
    },
    {
      "cell_type": "code",
      "execution_count": null,
      "metadata": {
        "id": "zFcLqVG4_enZ"
      },
      "outputs": [],
      "source": [
        "# Build optimized LSTM model\n",
        "lstm_model = Sequential([\n",
        "    Bidirectional(LSTM(512, activation='relu', return_sequences=True), input_shape=(seq_length, 1)),\n",
        "    BatchNormalization(),\n",
        "    Dropout(0.25),\n",
        "    Bidirectional(LSTM(256, activation='relu', return_sequences=True)),\n",
        "    BatchNormalization(),\n",
        "    Dropout(0.25),\n",
        "    Bidirectional(LSTM(128, activation='relu')),\n",
        "    BatchNormalization(),\n",
        "    Dropout(0.25),\n",
        "    Dense(1)\n",
        "])\n",
        "\n",
        "optimizer = Adam(learning_rate=0.0005)\n",
        "lstm_model.compile(optimizer=optimizer, loss=Huber(delta=1.0))"
      ]
    },
    {
      "cell_type": "code",
      "execution_count": null,
      "metadata": {
        "colab": {
          "base_uri": "https://localhost:8080/"
        },
        "id": "aRmu37jl_n-5",
        "outputId": "dbd97706-f780-4a9c-dd1d-15416e7513b9"
      },
      "outputs": [
        {
          "name": "stdout",
          "output_type": "stream",
          "text": [
            "LSTM Model:\n",
            "Mean Absolute Error: 0.6907363756073053\n",
            "Mean Squared Error: 0.6299393398449882\n",
            "R-squared Score: -0.4836220194386138\n"
          ]
        }
      ],
      "source": [
        "# Calculate evaluation metrics\n",
        "lstm_mae = mean_absolute_error(y_test, y_pred_lstm)\n",
        "lstm_mse = mean_squared_error(y_test, y_pred_lstm)\n",
        "lstm_r2 = r2_score(y_test, y_pred_lstm)\n",
        "\n",
        "print(\"LSTM Model:\")\n",
        "print(\"Mean Absolute Error:\", lstm_mae)\n",
        "print(\"Mean Squared Error:\", lstm_mse)\n",
        "print(\"R-squared Score:\", lstm_r2)"
      ]
    },
    {
      "cell_type": "code",
      "execution_count": null,
      "metadata": {
        "id": "eTGVOyLjKXqo"
      },
      "outputs": [],
      "source": [
        "@app.get(\"/predict\")\n",
        "def predict_emissions(country: str, baseline_year: int, target_year: int):\n",
        "    country_data = df[df['Country'] == country].groupby('Year')['CO2_Emissions'].sum().reset_index()\n",
        "    country_data = country_data.sort_values(by=\"Year\")\n",
        "\n",
        "    if len(country_data) < seq_length:\n",
        "        return {\"error\": \"Not enough data for prediction\"}\n",
        "\n",
        "    X, y = create_sequences(country_data['CO2_Emissions'].values, seq_length)\n",
        "    X = X.reshape((X.shape[0], X.shape[1], 1))\n",
        "\n",
        "    X_train, X_test, y_train, y_test = train_test_split(X, y, test_size=0.2, random_state=42, shuffle=False)\n",
        "\n",
        "    lstm_model.fit(X_train, y_train, epochs=500, batch_size=32, verbose=0, callbacks=[reduce_lr, early_stopping])\n",
        "\n",
        "    future_predictions = []\n",
        "    input_sequence = country_data['CO2_Emissions'].values[-seq_length:].reshape(1, seq_length, 1)\n",
        "    for _ in range(target_year - baseline_year + 1):\n",
        "        pred = lstm_model.predict(input_sequence, verbose=0)[0, 0]\n",
        "        future_predictions.append(pred)\n",
        "        input_sequence = np.roll(input_sequence, -1)\n",
        "        input_sequence[0, -1, 0] = pred\n",
        "\n",
        "    future_years_df = pd.DataFrame({'Year': np.arange(baseline_year, target_year + 1), 'Predicted_CO2_Emissions': scaler.inverse_transform(np.array(future_predictions).reshape(-1, 1)).ravel()})\n",
        "\n",
        "    if baseline_year in future_years_df['Year'].values:\n",
        "        baseline_emissions = future_years_df.loc[future_years_df['Year'] == baseline_year, 'Predicted_CO2_Emissions'].values[0]\n",
        "    else:\n",
        "        return {\"error\": \"Baseline year out of range\"}\n",
        "\n",
        "    future_years_df['Carbon_Credits'] = (baseline_emissions - future_years_df['Predicted_CO2_Emissions']) / 1e6\n",
        "    future_years_df['Carbon_Credits'] = future_years_df['Carbon_Credits'].apply(lambda x: max(0, x))\n",
        "\n",
        "    # Plot emissions prediction\n",
        "    plt.figure(figsize=(10, 5))\n",
        "    sns.lineplot(data=country_data, x='Year', y=scaler.inverse_transform(country_data[['CO2_Emissions']]).ravel(), label='Actual Emissions')\n",
        "    sns.lineplot(data=future_years_df, x='Year', y='Predicted_CO2_Emissions', label='Predicted Emissions', linestyle='dashed')\n",
        "    plt.xlabel('Year')\n",
        "    plt.ylabel('CO2 Emissions')\n",
        "    plt.title(f'CO2 Emissions Prediction for {country}')\n",
        "    plt.legend()\n",
        "    plt.show()\n",
        "\n",
        "    return future_years_df.to_dict(orient='records')"
      ]
    },
    {
      "cell_type": "code",
      "execution_count": null,
      "metadata": {
        "colab": {
          "base_uri": "https://localhost:8080/"
        },
        "id": "Xqy8FzLvKbf9",
        "outputId": "31a24e3c-b2f2-44bb-bae8-c8ddb35c798e"
      },
      "outputs": [
        {
          "name": "stdout",
          "output_type": "stream",
          "text": [
            "Public URL: NgrokTunnel: \"https://51ba-34-106-217-217.ngrok-free.app\" -> \"http://localhost:8000\"\n"
          ]
        },
        {
          "name": "stderr",
          "output_type": "stream",
          "text": [
            "INFO:     Started server process [272]\n",
            "INFO:     Waiting for application startup.\n",
            "INFO:     Application startup complete.\n",
            "INFO:     Uvicorn running on http://0.0.0.0:8000 (Press CTRL+C to quit)\n",
            "INFO:     Shutting down\n",
            "INFO:     Waiting for application shutdown.\n",
            "INFO:     Application shutdown complete.\n",
            "INFO:     Finished server process [272]\n"
          ]
        }
      ],
      "source": [
        "from pyngrok import ngrok\n",
        "\n",
        "ngrok.set_auth_token(\"2tIWeD2wRHNsyRcAdmMUcFn2TKP_6z1eHa5c4gRMdDCdtXJZW\") # Replace YOUR_AUTHTOKEN with your actual token\n",
        "\n",
        "if __name__ == \"__main__\":\n",
        "    nest_asyncio.apply()\n",
        "    public_url = ngrok.connect(8000)\n",
        "    print(\"Public URL:\", public_url)\n",
        "    uvicorn.run(app, host=\"0.0.0.0\", port=8000)"
      ]
    }
  ],
  "metadata": {
    "colab": {
      "provenance": []
    },
    "kernelspec": {
      "display_name": "Python 3",
      "name": "python3"
    },
    "language_info": {
      "name": "python"
    }
  },
  "nbformat": 4,
  "nbformat_minor": 0
}